{
 "cells": [
  {
   "cell_type": "markdown",
   "metadata": {},
   "source": [
    "# Importing the Libraries"
   ]
  },
  {
   "cell_type": "code",
   "execution_count": 2,
   "metadata": {},
   "outputs": [
    {
     "name": "stderr",
     "output_type": "stream",
     "text": [
      "Using TensorFlow backend.\n"
     ]
    }
   ],
   "source": [
    "#importing libraries \n",
    "import numpy as np\n",
    "import pandas as pd\n",
    "import seaborn as sns\n",
    "import matplotlib.pyplot as plt\n",
    "\n",
    "from sklearn.metrics import confusion_matrix\n",
    "import itertools\n",
    "from keras.utils.np_utils import to_categorical # convert to one-hot-encoding\n",
    "from keras.models import Sequential\n",
    "from keras.layers import Dense, Dropout, Flatten, Conv2D, MaxPool2D\n",
    "from keras.optimizers import RMSprop,Adam\n",
    "from keras.preprocessing.image import ImageDataGenerator\n",
    "from keras.callbacks import ReduceLROnPlateau"
   ]
  },
  {
   "cell_type": "markdown",
   "metadata": {},
   "source": [
    "# Loading the dataset"
   ]
  },
  {
   "cell_type": "code",
   "execution_count": 62,
   "metadata": {},
   "outputs": [
    {
     "data": {
      "text/plain": [
       "(242, 320)"
      ]
     },
     "execution_count": 62,
     "metadata": {},
     "output_type": "execute_result"
    }
   ],
   "source": [
    "# Reading the csv file \n",
    "df = pd.read_csv('kaggle_train.csv')\n",
    "df.shape"
   ]
  },
  {
   "cell_type": "code",
   "execution_count": 63,
   "metadata": {},
   "outputs": [
    {
     "data": {
      "text/html": [
       "<div>\n",
       "<style scoped>\n",
       "    .dataframe tbody tr th:only-of-type {\n",
       "        vertical-align: middle;\n",
       "    }\n",
       "\n",
       "    .dataframe tbody tr th {\n",
       "        vertical-align: top;\n",
       "    }\n",
       "\n",
       "    .dataframe thead th {\n",
       "        text-align: right;\n",
       "    }\n",
       "</style>\n",
       "<table border=\"1\" class=\"dataframe\">\n",
       "  <thead>\n",
       "    <tr style=\"text-align: right;\">\n",
       "      <th></th>\n",
       "      <th>ID</th>\n",
       "      <th>Labels</th>\n",
       "      <th>ACAN</th>\n",
       "      <th>AGER</th>\n",
       "      <th>ALPK1</th>\n",
       "      <th>ANKRD17</th>\n",
       "      <th>APOB</th>\n",
       "      <th>APPL1</th>\n",
       "      <th>APPL2</th>\n",
       "      <th>ARRB2</th>\n",
       "      <th>...</th>\n",
       "      <th>UBE2N</th>\n",
       "      <th>UBE2V1</th>\n",
       "      <th>UBQLN1</th>\n",
       "      <th>UFD1</th>\n",
       "      <th>UNC93B1</th>\n",
       "      <th>USP17L2</th>\n",
       "      <th>VCAN</th>\n",
       "      <th>WDFY1</th>\n",
       "      <th>XIAP</th>\n",
       "      <th>ZCCHC3</th>\n",
       "    </tr>\n",
       "  </thead>\n",
       "  <tbody>\n",
       "    <tr>\n",
       "      <th>0</th>\n",
       "      <td>TCGA-JW-A5VG</td>\n",
       "      <td>0</td>\n",
       "      <td>13.6584</td>\n",
       "      <td>88.0205</td>\n",
       "      <td>402.5420</td>\n",
       "      <td>1424.2625</td>\n",
       "      <td>3.7940</td>\n",
       "      <td>1001.2330</td>\n",
       "      <td>508.0148</td>\n",
       "      <td>567.2010</td>\n",
       "      <td>...</td>\n",
       "      <td>2437.6363</td>\n",
       "      <td>3413.2107</td>\n",
       "      <td>4135.4453</td>\n",
       "      <td>950.0104</td>\n",
       "      <td>1434.1269</td>\n",
       "      <td>0.0000</td>\n",
       "      <td>31.8695</td>\n",
       "      <td>923.0769</td>\n",
       "      <td>1046.0021</td>\n",
       "      <td>819.1217</td>\n",
       "    </tr>\n",
       "    <tr>\n",
       "      <th>1</th>\n",
       "      <td>TCGA-HG-A2PA</td>\n",
       "      <td>0</td>\n",
       "      <td>22.0844</td>\n",
       "      <td>86.3807</td>\n",
       "      <td>690.4861</td>\n",
       "      <td>2226.3285</td>\n",
       "      <td>20.4071</td>\n",
       "      <td>486.9744</td>\n",
       "      <td>1448.0640</td>\n",
       "      <td>651.9083</td>\n",
       "      <td>...</td>\n",
       "      <td>2153.9253</td>\n",
       "      <td>1817.3762</td>\n",
       "      <td>3426.4325</td>\n",
       "      <td>1380.1196</td>\n",
       "      <td>815.7241</td>\n",
       "      <td>0.0000</td>\n",
       "      <td>1651.0166</td>\n",
       "      <td>1473.7825</td>\n",
       "      <td>1618.8684</td>\n",
       "      <td>615.8465</td>\n",
       "    </tr>\n",
       "    <tr>\n",
       "      <th>2</th>\n",
       "      <td>TCGA-C5-A0TN</td>\n",
       "      <td>0</td>\n",
       "      <td>32.7422</td>\n",
       "      <td>53.0820</td>\n",
       "      <td>128.4882</td>\n",
       "      <td>1073.0497</td>\n",
       "      <td>0.0000</td>\n",
       "      <td>654.8431</td>\n",
       "      <td>492.6206</td>\n",
       "      <td>512.9604</td>\n",
       "      <td>...</td>\n",
       "      <td>3122.4110</td>\n",
       "      <td>3720.6995</td>\n",
       "      <td>3000.3721</td>\n",
       "      <td>2681.3791</td>\n",
       "      <td>1429.2447</td>\n",
       "      <td>0.4961</td>\n",
       "      <td>693.5384</td>\n",
       "      <td>477.2417</td>\n",
       "      <td>1064.6161</td>\n",
       "      <td>804.1672</td>\n",
       "    </tr>\n",
       "    <tr>\n",
       "      <th>3</th>\n",
       "      <td>TCGA-C5-A1BM</td>\n",
       "      <td>0</td>\n",
       "      <td>22.7975</td>\n",
       "      <td>42.1175</td>\n",
       "      <td>634.0804</td>\n",
       "      <td>3285.5487</td>\n",
       "      <td>0.0000</td>\n",
       "      <td>574.9614</td>\n",
       "      <td>513.9104</td>\n",
       "      <td>1033.2303</td>\n",
       "      <td>...</td>\n",
       "      <td>2663.4467</td>\n",
       "      <td>3217.9212</td>\n",
       "      <td>4131.3756</td>\n",
       "      <td>1178.8640</td>\n",
       "      <td>1018.5471</td>\n",
       "      <td>0.0000</td>\n",
       "      <td>675.0386</td>\n",
       "      <td>1596.5997</td>\n",
       "      <td>1666.1515</td>\n",
       "      <td>402.6275</td>\n",
       "    </tr>\n",
       "    <tr>\n",
       "      <th>4</th>\n",
       "      <td>TCGA-EK-A2RA</td>\n",
       "      <td>0</td>\n",
       "      <td>2.5000</td>\n",
       "      <td>134.0625</td>\n",
       "      <td>532.1875</td>\n",
       "      <td>936.5625</td>\n",
       "      <td>0.0000</td>\n",
       "      <td>1933.4375</td>\n",
       "      <td>679.3750</td>\n",
       "      <td>1175.6250</td>\n",
       "      <td>...</td>\n",
       "      <td>1898.4375</td>\n",
       "      <td>3009.1375</td>\n",
       "      <td>2549.3750</td>\n",
       "      <td>1293.1156</td>\n",
       "      <td>744.6875</td>\n",
       "      <td>0.0000</td>\n",
       "      <td>69.0625</td>\n",
       "      <td>1651.5625</td>\n",
       "      <td>1250.3125</td>\n",
       "      <td>982.5000</td>\n",
       "    </tr>\n",
       "  </tbody>\n",
       "</table>\n",
       "<p>5 rows × 320 columns</p>\n",
       "</div>"
      ],
      "text/plain": [
       "             ID  Labels     ACAN      AGER     ALPK1    ANKRD17     APOB  \\\n",
       "0  TCGA-JW-A5VG       0  13.6584   88.0205  402.5420  1424.2625   3.7940   \n",
       "1  TCGA-HG-A2PA       0  22.0844   86.3807  690.4861  2226.3285  20.4071   \n",
       "2  TCGA-C5-A0TN       0  32.7422   53.0820  128.4882  1073.0497   0.0000   \n",
       "3  TCGA-C5-A1BM       0  22.7975   42.1175  634.0804  3285.5487   0.0000   \n",
       "4  TCGA-EK-A2RA       0   2.5000  134.0625  532.1875   936.5625   0.0000   \n",
       "\n",
       "       APPL1      APPL2      ARRB2  ...      UBE2N     UBE2V1     UBQLN1  \\\n",
       "0  1001.2330   508.0148   567.2010  ...  2437.6363  3413.2107  4135.4453   \n",
       "1   486.9744  1448.0640   651.9083  ...  2153.9253  1817.3762  3426.4325   \n",
       "2   654.8431   492.6206   512.9604  ...  3122.4110  3720.6995  3000.3721   \n",
       "3   574.9614   513.9104  1033.2303  ...  2663.4467  3217.9212  4131.3756   \n",
       "4  1933.4375   679.3750  1175.6250  ...  1898.4375  3009.1375  2549.3750   \n",
       "\n",
       "        UFD1    UNC93B1  USP17L2       VCAN      WDFY1       XIAP    ZCCHC3  \n",
       "0   950.0104  1434.1269   0.0000    31.8695   923.0769  1046.0021  819.1217  \n",
       "1  1380.1196   815.7241   0.0000  1651.0166  1473.7825  1618.8684  615.8465  \n",
       "2  2681.3791  1429.2447   0.4961   693.5384   477.2417  1064.6161  804.1672  \n",
       "3  1178.8640  1018.5471   0.0000   675.0386  1596.5997  1666.1515  402.6275  \n",
       "4  1293.1156   744.6875   0.0000    69.0625  1651.5625  1250.3125  982.5000  \n",
       "\n",
       "[5 rows x 320 columns]"
      ]
     },
     "execution_count": 63,
     "metadata": {},
     "output_type": "execute_result"
    }
   ],
   "source": [
    "# Creating the head of the dataframe\n",
    "df.head()"
   ]
  },
  {
   "cell_type": "markdown",
   "metadata": {},
   "source": [
    "# Creating X_train and y_train"
   ]
  },
  {
   "cell_type": "code",
   "execution_count": 64,
   "metadata": {},
   "outputs": [],
   "source": [
    "# put labels into y_train variable\n",
    "y_train = df[\"Labels\"]\n",
    "# Drop 'label' and 'ID' columns for creating X_train\n",
    "X_train = df.drop(labels = [\"Labels\",\"ID\"],axis = 1) "
   ]
  },
  {
   "cell_type": "markdown",
   "metadata": {},
   "source": [
    "# Visualizing the two classes"
   ]
  },
  {
   "cell_type": "code",
   "execution_count": 65,
   "metadata": {},
   "outputs": [
    {
     "data": {
      "text/plain": [
       "1    121\n",
       "0    121\n",
       "Name: Labels, dtype: int64"
      ]
     },
     "execution_count": 65,
     "metadata": {},
     "output_type": "execute_result"
    },
    {
     "data": {
      "image/png": "[encoded data removed]",
      "text/plain": [
       "<Figure size 432x288 with 1 Axes>"
      ]
     },
     "metadata": {
      "needs_background": "light"
     },
     "output_type": "display_data"
    }
   ],
   "source": [
    "# visualize the classes\n",
    "#plt.figure(figsize=(15,7))\n",
    "g = sns.countplot(y_train, palette=\"icefire\")\n",
    "plt.title(\"Classes\")\n",
    "y_train.value_counts()"
   ]
  },
  {
   "cell_type": "code",
   "execution_count": 66,
   "metadata": {},
   "outputs": [
    {
     "data": {
      "text/plain": [
       "(242, 318)"
      ]
     },
     "execution_count": 66,
     "metadata": {},
     "output_type": "execute_result"
    }
   ],
   "source": [
    "# Normalizing the data\n",
    "from sklearn.preprocessing import StandardScaler\n",
    "ss = StandardScaler()\n",
    "X_train = ss.fit_transform(X_train)\n",
    "X_train.shape"
   ]
  },
  {
   "cell_type": "markdown",
   "metadata": {},
   "source": [
    "# Reshaping the data for the model"
   ]
  },
  {
   "cell_type": "code",
   "execution_count": 67,
   "metadata": {},
   "outputs": [
    {
     "data": {
      "text/plain": [
       "(242, 324)"
      ]
     },
     "execution_count": 67,
     "metadata": {},
     "output_type": "execute_result"
    }
   ],
   "source": [
    "# padding the matrix with mean to make 324 columns\n",
    "X_train = np.pad(X_train, ((0, 0), (3, 3)), 'mean')\n",
    "X_train.shape"
   ]
  },
  {
   "cell_type": "code",
   "execution_count": 68,
   "metadata": {},
   "outputs": [
    {
     "data": {
      "text/plain": [
       "array([[-0.0869509 , -0.0869509 , -0.0869509 , ..., -0.0869509 ,\n",
       "        -0.0869509 , -0.0869509 ],\n",
       "       [ 0.1445462 ,  0.1445462 ,  0.1445462 , ...,  0.1445462 ,\n",
       "         0.1445462 ,  0.1445462 ],\n",
       "       [-0.12896915, -0.12896915, -0.12896915, ..., -0.12896915,\n",
       "        -0.12896915, -0.12896915],\n",
       "       ...,\n",
       "       [ 0.02179964,  0.02179964,  0.02179964, ...,  0.02179964,\n",
       "         0.02179964,  0.02179964],\n",
       "       [-0.11876906, -0.11876906, -0.11876906, ..., -0.11876906,\n",
       "        -0.11876906, -0.11876906],\n",
       "       [-0.01690106, -0.01690106, -0.01690106, ..., -0.01690106,\n",
       "        -0.01690106, -0.01690106]])"
      ]
     },
     "execution_count": 68,
     "metadata": {},
     "output_type": "execute_result"
    }
   ],
   "source": [
    "X_train"
   ]
  },
  {
   "cell_type": "code",
   "execution_count": 69,
   "metadata": {},
   "outputs": [],
   "source": [
    "# another technique for reshaping \n",
    "# X_train = np.concatenate([np.zeros([242,3]),X_train,np.zeros([242,3])], axis=1)\n",
    "# X_train.shape"
   ]
  },
  {
   "cell_type": "code",
   "execution_count": 70,
   "metadata": {},
   "outputs": [
    {
     "data": {
      "text/plain": [
       "(242, 18, 18, 1)"
      ]
     },
     "execution_count": 70,
     "metadata": {},
     "output_type": "execute_result"
    }
   ],
   "source": [
    "# Reshaping it to the form of input for CNN\n",
    "X_train = X_train.reshape(X_train.shape[0], 18, 18, 1)\n",
    "X_train.shape"
   ]
  },
  {
   "cell_type": "code",
   "execution_count": 71,
   "metadata": {},
   "outputs": [
    {
     "name": "stdout",
     "output_type": "stream",
     "text": [
      "x_train shape (217, 18, 18, 1)\n",
      "x_val shape (25, 18, 18, 1)\n",
      "y_train shape (217,)\n",
      "y_val shape (25,)\n"
     ]
    }
   ],
   "source": [
    "# Split the train and the validation set for the fitting\n",
    "from sklearn.model_selection import train_test_split\n",
    "X_train, X_val, Y_train, Y_val = train_test_split(X_train, y_train, test_size = 0.1, random_state=2)\n",
    "print(\"x_train shape\",X_train.shape)\n",
    "print(\"x_val shape\",X_val.shape)\n",
    "print(\"y_train shape\",Y_train.shape)\n",
    "print(\"y_val shape\",Y_val.shape)"
   ]
  },
  {
   "cell_type": "markdown",
   "metadata": {},
   "source": [
    "# Model Architecture"
   ]
  },
  {
   "cell_type": "code",
   "execution_count": 72,
   "metadata": {},
   "outputs": [],
   "source": [
    "model = Sequential()\n",
    "#\n",
    "model.add(Conv2D(filters = 8, kernel_size = (5,5),padding = 'Same', \n",
    "                 activation ='relu', input_shape = (18,18,1)))\n",
    "model.add(MaxPool2D(pool_size=(2,2)))\n",
    "model.add(Dropout(0.25))\n",
    "#\n",
    "model.add(Conv2D(filters = 16, kernel_size = (3,3),padding = 'Same', \n",
    "                 activation ='relu'))\n",
    "model.add(MaxPool2D(pool_size=(2,2), strides=(2,2)))\n",
    "model.add(Dropout(0.25))\n",
    "# fully connected\n",
    "model.add(Flatten())\n",
    "model.add(Dense(256, activation = \"relu\"))\n",
    "model.add(Dropout(0.5))\n",
    "model.add(Dense(1, activation = \"sigmoid\"))"
   ]
  },
  {
   "cell_type": "code",
   "execution_count": 73,
   "metadata": {},
   "outputs": [],
   "source": [
    "# Define the optimizer\n",
    "optimizer = Adam(lr=0.001, beta_1=0.9, beta_2=0.999)"
   ]
  },
  {
   "cell_type": "code",
   "execution_count": 74,
   "metadata": {},
   "outputs": [],
   "source": [
    "# Compile the model\n",
    "model.compile(optimizer = optimizer , loss = \"binary_crossentropy\", metrics=[\"accuracy\"])"
   ]
  },
  {
   "cell_type": "code",
   "execution_count": 75,
   "metadata": {},
   "outputs": [
    {
     "name": "stdout",
     "output_type": "stream",
     "text": [
      "Train on 217 samples, validate on 25 samples\n",
      "Epoch 1/30\n",
      "217/217 [==============================] - 0s 2ms/step - loss: 0.7387 - accuracy: 0.4700 - val_loss: 0.7003 - val_accuracy: 0.5200\n",
      "Epoch 2/30\n",
      "217/217 [==============================] - 0s 414us/step - loss: 0.7719 - accuracy: 0.4700 - val_loss: 0.6673 - val_accuracy: 0.6400\n",
      "Epoch 3/30\n",
      "217/217 [==============================] - 0s 410us/step - loss: 0.6879 - accuracy: 0.5530 - val_loss: 0.6711 - val_accuracy: 0.5600\n",
      "Epoch 4/30\n",
      "217/217 [==============================] - 0s 404us/step - loss: 0.6987 - accuracy: 0.5253 - val_loss: 0.6766 - val_accuracy: 0.6000\n",
      "Epoch 5/30\n",
      "217/217 [==============================] - 0s 485us/step - loss: 0.6985 - accuracy: 0.5484 - val_loss: 0.6788 - val_accuracy: 0.6000\n",
      "Epoch 6/30\n",
      "217/217 [==============================] - 0s 460us/step - loss: 0.7082 - accuracy: 0.5300 - val_loss: 0.6826 - val_accuracy: 0.6000\n",
      "Epoch 7/30\n",
      "217/217 [==============================] - 0s 460us/step - loss: 0.7001 - accuracy: 0.5023 - val_loss: 0.6826 - val_accuracy: 0.5600\n",
      "Epoch 8/30\n",
      "217/217 [==============================] - 0s 416us/step - loss: 0.6984 - accuracy: 0.5253 - val_loss: 0.6840 - val_accuracy: 0.5200\n",
      "Epoch 9/30\n",
      "217/217 [==============================] - 0s 472us/step - loss: 0.6872 - accuracy: 0.5346 - val_loss: 0.6824 - val_accuracy: 0.5200\n",
      "Epoch 10/30\n",
      "217/217 [==============================] - 0s 394us/step - loss: 0.6600 - accuracy: 0.5806 - val_loss: 0.6788 - val_accuracy: 0.5600\n",
      "Epoch 11/30\n",
      "217/217 [==============================] - 0s 415us/step - loss: 0.6639 - accuracy: 0.6037 - val_loss: 0.6759 - val_accuracy: 0.7200\n",
      "Epoch 12/30\n",
      "217/217 [==============================] - 0s 416us/step - loss: 0.6655 - accuracy: 0.6083 - val_loss: 0.6765 - val_accuracy: 0.6400\n",
      "Epoch 13/30\n",
      "217/217 [==============================] - 0s 415us/step - loss: 0.6529 - accuracy: 0.6175 - val_loss: 0.6784 - val_accuracy: 0.5600\n",
      "Epoch 14/30\n",
      "217/217 [==============================] - 0s 415us/step - loss: 0.6568 - accuracy: 0.5991 - val_loss: 0.6785 - val_accuracy: 0.7200\n",
      "Epoch 15/30\n",
      "217/217 [==============================] - 0s 464us/step - loss: 0.6508 - accuracy: 0.5991 - val_loss: 0.6764 - val_accuracy: 0.6800\n",
      "Epoch 16/30\n",
      "217/217 [==============================] - 0s 414us/step - loss: 0.6453 - accuracy: 0.6313 - val_loss: 0.6719 - val_accuracy: 0.6000\n",
      "Epoch 17/30\n",
      "217/217 [==============================] - 0s 368us/step - loss: 0.6317 - accuracy: 0.6267 - val_loss: 0.6631 - val_accuracy: 0.6800\n",
      "Epoch 18/30\n",
      "217/217 [==============================] - 0s 371us/step - loss: 0.6438 - accuracy: 0.6221 - val_loss: 0.6577 - val_accuracy: 0.6800\n",
      "Epoch 19/30\n",
      "217/217 [==============================] - 0s 414us/step - loss: 0.6240 - accuracy: 0.6129 - val_loss: 0.6589 - val_accuracy: 0.6400\n",
      "Epoch 20/30\n",
      "217/217 [==============================] - 0s 461us/step - loss: 0.6208 - accuracy: 0.6359 - val_loss: 0.6605 - val_accuracy: 0.6400\n",
      "Epoch 21/30\n",
      "217/217 [==============================] - 0s 461us/step - loss: 0.6135 - accuracy: 0.6452 - val_loss: 0.6660 - val_accuracy: 0.6000\n",
      "Epoch 22/30\n",
      "217/217 [==============================] - 0s 506us/step - loss: 0.6137 - accuracy: 0.6774 - val_loss: 0.6672 - val_accuracy: 0.6400\n",
      "Epoch 23/30\n",
      "217/217 [==============================] - 0s 434us/step - loss: 0.5965 - accuracy: 0.6728 - val_loss: 0.6632 - val_accuracy: 0.5600\n",
      "Epoch 24/30\n",
      "217/217 [==============================] - 0s 470us/step - loss: 0.5983 - accuracy: 0.6959 - val_loss: 0.6601 - val_accuracy: 0.5600\n",
      "Epoch 25/30\n",
      "217/217 [==============================] - 0s 368us/step - loss: 0.6033 - accuracy: 0.6820 - val_loss: 0.6691 - val_accuracy: 0.6800\n",
      "Epoch 26/30\n",
      "217/217 [==============================] - 0s 507us/step - loss: 0.5920 - accuracy: 0.6544 - val_loss: 0.6641 - val_accuracy: 0.5600\n",
      "Epoch 27/30\n",
      "217/217 [==============================] - 0s 599us/step - loss: 0.5740 - accuracy: 0.7189 - val_loss: 0.6599 - val_accuracy: 0.6000\n",
      "Epoch 28/30\n",
      "217/217 [==============================] - 0s 508us/step - loss: 0.5937 - accuracy: 0.6682 - val_loss: 0.6547 - val_accuracy: 0.6000\n",
      "Epoch 29/30\n",
      "217/217 [==============================] - 0s 553us/step - loss: 0.5860 - accuracy: 0.6820 - val_loss: 0.6528 - val_accuracy: 0.6000\n",
      "Epoch 30/30\n",
      "217/217 [==============================] - 0s 552us/step - loss: 0.6177 - accuracy: 0.6728 - val_loss: 0.6574 - val_accuracy: 0.6400\n"
     ]
    }
   ],
   "source": [
    "# Fit the model\n",
    "history = model.fit(X_train,\n",
    "                    Y_train,\n",
    "                    epochs = 30, \n",
    "                    validation_data = (X_val,Y_val))"
   ]
  },
  {
   "cell_type": "markdown",
   "metadata": {},
   "source": [
    "# Plotting the curve for losses"
   ]
  },
  {
   "cell_type": "code",
   "execution_count": 76,
   "metadata": {},
   "outputs": [
    {
     "data": {
      "image/png": "[encoded data removed]",
      "text/plain": [
       "<Figure size 432x288 with 1 Axes>"
      ]
     },
     "metadata": {
      "needs_background": "light"
     },
     "output_type": "display_data"
    }
   ],
   "source": [
    "# Plotting the loss and accuracy curves for training and validation data\n",
    "plt.plot(history.history['val_loss'], color='b', label=\"validation loss\")\n",
    "plt.plot(history.history['loss'], color='r', label=\"training loss\")\n",
    "plt.title(\"Validation Loss\")\n",
    "plt.xlabel(\"Number of Epochs\")\n",
    "plt.ylabel(\"Loss\")\n",
    "plt.legend()\n",
    "plt.show()"
   ]
  },
  {
   "cell_type": "markdown",
   "metadata": {},
   "source": [
    "# Creating Test Dataset"
   ]
  },
  {
   "cell_type": "code",
   "execution_count": 77,
   "metadata": {},
   "outputs": [
    {
     "name": "stdout",
     "output_type": "stream",
     "text": [
      "(62, 319)\n"
     ]
    },
    {
     "data": {
      "text/html": [
       "<div>\n",
       "<style scoped>\n",
       "    .dataframe tbody tr th:only-of-type {\n",
       "        vertical-align: middle;\n",
       "    }\n",
       "\n",
       "    .dataframe tbody tr th {\n",
       "        vertical-align: top;\n",
       "    }\n",
       "\n",
       "    .dataframe thead th {\n",
       "        text-align: right;\n",
       "    }\n",
       "</style>\n",
       "<table border=\"1\" class=\"dataframe\">\n",
       "  <thead>\n",
       "    <tr style=\"text-align: right;\">\n",
       "      <th></th>\n",
       "      <th>ID</th>\n",
       "      <th>ACAN</th>\n",
       "      <th>AGER</th>\n",
       "      <th>ALPK1</th>\n",
       "      <th>ANKRD17</th>\n",
       "      <th>APOB</th>\n",
       "      <th>APPL1</th>\n",
       "      <th>APPL2</th>\n",
       "      <th>ARRB2</th>\n",
       "      <th>ASGR1</th>\n",
       "      <th>...</th>\n",
       "      <th>UBE2N</th>\n",
       "      <th>UBE2V1</th>\n",
       "      <th>UBQLN1</th>\n",
       "      <th>UFD1</th>\n",
       "      <th>UNC93B1</th>\n",
       "      <th>USP17L2</th>\n",
       "      <th>VCAN</th>\n",
       "      <th>WDFY1</th>\n",
       "      <th>XIAP</th>\n",
       "      <th>ZCCHC3</th>\n",
       "    </tr>\n",
       "  </thead>\n",
       "  <tbody>\n",
       "    <tr>\n",
       "      <th>0</th>\n",
       "      <td>1001</td>\n",
       "      <td>91.3265</td>\n",
       "      <td>132.5226</td>\n",
       "      <td>331.5548</td>\n",
       "      <td>1658.7666</td>\n",
       "      <td>0.0000</td>\n",
       "      <td>1068.6189</td>\n",
       "      <td>571.2868</td>\n",
       "      <td>699.8387</td>\n",
       "      <td>9.4305</td>\n",
       "      <td>...</td>\n",
       "      <td>1525.2513</td>\n",
       "      <td>3320.8537</td>\n",
       "      <td>2817.7193</td>\n",
       "      <td>1397.1957</td>\n",
       "      <td>367.7876</td>\n",
       "      <td>0.4963</td>\n",
       "      <td>699.3424</td>\n",
       "      <td>995.6570</td>\n",
       "      <td>1219.0098</td>\n",
       "      <td>840.7991</td>\n",
       "    </tr>\n",
       "    <tr>\n",
       "      <th>1</th>\n",
       "      <td>1002</td>\n",
       "      <td>17.5971</td>\n",
       "      <td>183.2524</td>\n",
       "      <td>558.8592</td>\n",
       "      <td>2321.6019</td>\n",
       "      <td>0.6068</td>\n",
       "      <td>929.0049</td>\n",
       "      <td>783.9806</td>\n",
       "      <td>1039.4417</td>\n",
       "      <td>27.3058</td>\n",
       "      <td>...</td>\n",
       "      <td>2489.6845</td>\n",
       "      <td>2102.5485</td>\n",
       "      <td>3799.1505</td>\n",
       "      <td>906.5534</td>\n",
       "      <td>1187.5000</td>\n",
       "      <td>0.0000</td>\n",
       "      <td>1967.2330</td>\n",
       "      <td>1529.7330</td>\n",
       "      <td>1083.1311</td>\n",
       "      <td>510.3155</td>\n",
       "    </tr>\n",
       "    <tr>\n",
       "      <th>2</th>\n",
       "      <td>1003</td>\n",
       "      <td>120.9309</td>\n",
       "      <td>221.8022</td>\n",
       "      <td>331.8437</td>\n",
       "      <td>891.7940</td>\n",
       "      <td>0.0000</td>\n",
       "      <td>309.4915</td>\n",
       "      <td>403.4852</td>\n",
       "      <td>1430.5385</td>\n",
       "      <td>49.8625</td>\n",
       "      <td>...</td>\n",
       "      <td>1760.6628</td>\n",
       "      <td>4822.9092</td>\n",
       "      <td>3718.4831</td>\n",
       "      <td>1907.9521</td>\n",
       "      <td>1732.0061</td>\n",
       "      <td>0.0000</td>\n",
       "      <td>1190.9692</td>\n",
       "      <td>1156.5812</td>\n",
       "      <td>710.6842</td>\n",
       "      <td>689.4783</td>\n",
       "    </tr>\n",
       "    <tr>\n",
       "      <th>3</th>\n",
       "      <td>1004</td>\n",
       "      <td>12.0930</td>\n",
       "      <td>41.8605</td>\n",
       "      <td>886.5116</td>\n",
       "      <td>2216.7442</td>\n",
       "      <td>0.0000</td>\n",
       "      <td>792.5581</td>\n",
       "      <td>1012.0930</td>\n",
       "      <td>637.2093</td>\n",
       "      <td>3.7209</td>\n",
       "      <td>...</td>\n",
       "      <td>1872.5581</td>\n",
       "      <td>2342.0093</td>\n",
       "      <td>3280.9302</td>\n",
       "      <td>1115.3116</td>\n",
       "      <td>773.0233</td>\n",
       "      <td>0.0000</td>\n",
       "      <td>63.2558</td>\n",
       "      <td>1065.1163</td>\n",
       "      <td>1385.1163</td>\n",
       "      <td>563.7209</td>\n",
       "    </tr>\n",
       "    <tr>\n",
       "      <th>4</th>\n",
       "      <td>1005</td>\n",
       "      <td>84.0622</td>\n",
       "      <td>34.4995</td>\n",
       "      <td>145.7726</td>\n",
       "      <td>1266.2779</td>\n",
       "      <td>0.4859</td>\n",
       "      <td>1362.4879</td>\n",
       "      <td>830.9038</td>\n",
       "      <td>1064.1399</td>\n",
       "      <td>85.5199</td>\n",
       "      <td>...</td>\n",
       "      <td>1932.9446</td>\n",
       "      <td>3220.9184</td>\n",
       "      <td>3153.5471</td>\n",
       "      <td>1168.6054</td>\n",
       "      <td>965.5005</td>\n",
       "      <td>0.0000</td>\n",
       "      <td>1168.6103</td>\n",
       "      <td>581.6327</td>\n",
       "      <td>878.5228</td>\n",
       "      <td>607.8717</td>\n",
       "    </tr>\n",
       "  </tbody>\n",
       "</table>\n",
       "<p>5 rows × 319 columns</p>\n",
       "</div>"
      ],
      "text/plain": [
       "     ID      ACAN      AGER     ALPK1    ANKRD17    APOB      APPL1  \\\n",
       "0  1001   91.3265  132.5226  331.5548  1658.7666  0.0000  1068.6189   \n",
       "1  1002   17.5971  183.2524  558.8592  2321.6019  0.6068   929.0049   \n",
       "2  1003  120.9309  221.8022  331.8437   891.7940  0.0000   309.4915   \n",
       "3  1004   12.0930   41.8605  886.5116  2216.7442  0.0000   792.5581   \n",
       "4  1005   84.0622   34.4995  145.7726  1266.2779  0.4859  1362.4879   \n",
       "\n",
       "       APPL2      ARRB2    ASGR1  ...      UBE2N     UBE2V1     UBQLN1  \\\n",
       "0   571.2868   699.8387   9.4305  ...  1525.2513  3320.8537  2817.7193   \n",
       "1   783.9806  1039.4417  27.3058  ...  2489.6845  2102.5485  3799.1505   \n",
       "2   403.4852  1430.5385  49.8625  ...  1760.6628  4822.9092  3718.4831   \n",
       "3  1012.0930   637.2093   3.7209  ...  1872.5581  2342.0093  3280.9302   \n",
       "4   830.9038  1064.1399  85.5199  ...  1932.9446  3220.9184  3153.5471   \n",
       "\n",
       "        UFD1    UNC93B1  USP17L2       VCAN      WDFY1       XIAP    ZCCHC3  \n",
       "0  1397.1957   367.7876   0.4963   699.3424   995.6570  1219.0098  840.7991  \n",
       "1   906.5534  1187.5000   0.0000  1967.2330  1529.7330  1083.1311  510.3155  \n",
       "2  1907.9521  1732.0061   0.0000  1190.9692  1156.5812   710.6842  689.4783  \n",
       "3  1115.3116   773.0233   0.0000    63.2558  1065.1163  1385.1163  563.7209  \n",
       "4  1168.6054   965.5005   0.0000  1168.6103   581.6327   878.5228  607.8717  \n",
       "\n",
       "[5 rows x 319 columns]"
      ]
     },
     "execution_count": 77,
     "metadata": {},
     "output_type": "execute_result"
    }
   ],
   "source": [
    "# Reading the csv file \n",
    "df_test = pd.read_csv('kaggle_test.csv')\n",
    "print(df_test.shape)\n",
    "df_test.head()"
   ]
  },
  {
   "cell_type": "code",
   "execution_count": 78,
   "metadata": {},
   "outputs": [],
   "source": [
    "# Drop 'label' column for creating X_train\n",
    "X_test = df_test.drop(labels = [\"ID\"],axis = 1) "
   ]
  },
  {
   "cell_type": "markdown",
   "metadata": {},
   "source": [
    "# Normalizing the Test data"
   ]
  },
  {
   "cell_type": "code",
   "execution_count": 79,
   "metadata": {},
   "outputs": [
    {
     "data": {
      "text/plain": [
       "(62, 318)"
      ]
     },
     "execution_count": 79,
     "metadata": {},
     "output_type": "execute_result"
    }
   ],
   "source": [
    "# Normalizing the test data\n",
    "from sklearn.preprocessing import StandardScaler\n",
    "ss = StandardScaler()\n",
    "X_test = ss.fit_transform(X_test)\n",
    "X_test.shape"
   ]
  },
  {
   "cell_type": "code",
   "execution_count": 80,
   "metadata": {},
   "outputs": [
    {
     "data": {
      "text/plain": [
       "(62, 324)"
      ]
     },
     "execution_count": 80,
     "metadata": {},
     "output_type": "execute_result"
    }
   ],
   "source": [
    "# padding the matrix with mean to make 324 columns\n",
    "X_test = np.pad(X_test, ((0, 0), (3, 3)), 'mean')\n",
    "X_test.shape"
   ]
  },
  {
   "cell_type": "code",
   "execution_count": 81,
   "metadata": {},
   "outputs": [
    {
     "data": {
      "text/plain": [
       "(62, 18, 18, 1)"
      ]
     },
     "execution_count": 81,
     "metadata": {},
     "output_type": "execute_result"
    }
   ],
   "source": [
    "# Reshaping it to the form of input for CNN\n",
    "X_test = X_test.reshape(X_test.shape[0], 18, 18, 1)\n",
    "X_test.shape"
   ]
  },
  {
   "cell_type": "code",
   "execution_count": 134,
   "metadata": {},
   "outputs": [],
   "source": [
    "pred = model.predict(X_test)"
   ]
  },
  {
   "cell_type": "code",
   "execution_count": 135,
   "metadata": {},
   "outputs": [],
   "source": [
    "pred1 = pred"
   ]
  },
  {
   "cell_type": "code",
   "execution_count": 83,
   "metadata": {},
   "outputs": [
    {
     "name": "stdout",
     "output_type": "stream",
     "text": [
      "Best Threshold=0.484946 \n",
      "\n",
      "              precision    recall  f1-score   support\n",
      "\n",
      "           0       0.69      0.75      0.72        12\n",
      "           1       0.75      0.69      0.72        13\n",
      "\n",
      "    accuracy                           0.72        25\n",
      "   macro avg       0.72      0.72      0.72        25\n",
      "weighted avg       0.72      0.72      0.72        25\n",
      "\n"
     ]
    }
   ],
   "source": [
    "from sklearn.metrics import roc_curve, roc_auc_score, auc, precision_recall_curve\n",
    "pred_proba = model.predict_proba(X_val)\n",
    "#pred_proba = pred_proba[:,1]\n",
    "\n",
    "fpr, tpr, thresholds = roc_curve(Y_val, pred_proba)\n",
    "\n",
    "J = tpr - fpr\n",
    "ix = np.argmax(J)\n",
    "best_thresh = thresholds[ix]\n",
    "print('Best Threshold=%f \\n' % (best_thresh))\n",
    "\n",
    "# To labels \n",
    "pred = (pred_proba >= best_thresh).astype('int')\n",
    "\n",
    "print(metrics.classification_report(Y_val, pred))"
   ]
  },
  {
   "cell_type": "code",
   "execution_count": 137,
   "metadata": {},
   "outputs": [],
   "source": [
    "pred1[pred1>0.484946] = 1\n",
    "pred1[pred1<=0.484946] = 0"
   ]
  },
  {
   "cell_type": "code",
   "execution_count": 138,
   "metadata": {},
   "outputs": [],
   "source": [
    "pred1 = pred1.astype(int)"
   ]
  },
  {
   "cell_type": "code",
   "execution_count": 99,
   "metadata": {},
   "outputs": [],
   "source": [
    "predict = pd.DataFrame(pred1)"
   ]
  },
  {
   "cell_type": "code",
   "execution_count": 100,
   "metadata": {},
   "outputs": [],
   "source": [
    "lab = df_test.ID"
   ]
  },
  {
   "cell_type": "code",
   "execution_count": 101,
   "metadata": {},
   "outputs": [],
   "source": [
    "output = pd.concat([lab,predict],axis=1)"
   ]
  },
  {
   "cell_type": "code",
   "execution_count": 102,
   "metadata": {},
   "outputs": [
    {
     "data": {
      "text/html": [
       "<div>\n",
       "<style scoped>\n",
       "    .dataframe tbody tr th:only-of-type {\n",
       "        vertical-align: middle;\n",
       "    }\n",
       "\n",
       "    .dataframe tbody tr th {\n",
       "        vertical-align: top;\n",
       "    }\n",
       "\n",
       "    .dataframe thead th {\n",
       "        text-align: right;\n",
       "    }\n",
       "</style>\n",
       "<table border=\"1\" class=\"dataframe\">\n",
       "  <thead>\n",
       "    <tr style=\"text-align: right;\">\n",
       "      <th></th>\n",
       "      <th>ID</th>\n",
       "      <th>0</th>\n",
       "    </tr>\n",
       "  </thead>\n",
       "  <tbody>\n",
       "    <tr>\n",
       "      <th>0</th>\n",
       "      <td>1001</td>\n",
       "      <td>1</td>\n",
       "    </tr>\n",
       "    <tr>\n",
       "      <th>1</th>\n",
       "      <td>1002</td>\n",
       "      <td>0</td>\n",
       "    </tr>\n",
       "    <tr>\n",
       "      <th>2</th>\n",
       "      <td>1003</td>\n",
       "      <td>1</td>\n",
       "    </tr>\n",
       "    <tr>\n",
       "      <th>3</th>\n",
       "      <td>1004</td>\n",
       "      <td>0</td>\n",
       "    </tr>\n",
       "    <tr>\n",
       "      <th>4</th>\n",
       "      <td>1005</td>\n",
       "      <td>1</td>\n",
       "    </tr>\n",
       "    <tr>\n",
       "      <th>5</th>\n",
       "      <td>1006</td>\n",
       "      <td>0</td>\n",
       "    </tr>\n",
       "    <tr>\n",
       "      <th>6</th>\n",
       "      <td>1007</td>\n",
       "      <td>1</td>\n",
       "    </tr>\n",
       "    <tr>\n",
       "      <th>7</th>\n",
       "      <td>1008</td>\n",
       "      <td>1</td>\n",
       "    </tr>\n",
       "    <tr>\n",
       "      <th>8</th>\n",
       "      <td>1009</td>\n",
       "      <td>1</td>\n",
       "    </tr>\n",
       "    <tr>\n",
       "      <th>9</th>\n",
       "      <td>1010</td>\n",
       "      <td>0</td>\n",
       "    </tr>\n",
       "    <tr>\n",
       "      <th>10</th>\n",
       "      <td>1011</td>\n",
       "      <td>0</td>\n",
       "    </tr>\n",
       "    <tr>\n",
       "      <th>11</th>\n",
       "      <td>1012</td>\n",
       "      <td>1</td>\n",
       "    </tr>\n",
       "    <tr>\n",
       "      <th>12</th>\n",
       "      <td>1013</td>\n",
       "      <td>0</td>\n",
       "    </tr>\n",
       "    <tr>\n",
       "      <th>13</th>\n",
       "      <td>1014</td>\n",
       "      <td>1</td>\n",
       "    </tr>\n",
       "    <tr>\n",
       "      <th>14</th>\n",
       "      <td>1015</td>\n",
       "      <td>1</td>\n",
       "    </tr>\n",
       "    <tr>\n",
       "      <th>15</th>\n",
       "      <td>1016</td>\n",
       "      <td>1</td>\n",
       "    </tr>\n",
       "    <tr>\n",
       "      <th>16</th>\n",
       "      <td>1017</td>\n",
       "      <td>1</td>\n",
       "    </tr>\n",
       "    <tr>\n",
       "      <th>17</th>\n",
       "      <td>1018</td>\n",
       "      <td>0</td>\n",
       "    </tr>\n",
       "    <tr>\n",
       "      <th>18</th>\n",
       "      <td>1019</td>\n",
       "      <td>0</td>\n",
       "    </tr>\n",
       "    <tr>\n",
       "      <th>19</th>\n",
       "      <td>1020</td>\n",
       "      <td>1</td>\n",
       "    </tr>\n",
       "    <tr>\n",
       "      <th>20</th>\n",
       "      <td>1021</td>\n",
       "      <td>0</td>\n",
       "    </tr>\n",
       "    <tr>\n",
       "      <th>21</th>\n",
       "      <td>1022</td>\n",
       "      <td>1</td>\n",
       "    </tr>\n",
       "    <tr>\n",
       "      <th>22</th>\n",
       "      <td>1023</td>\n",
       "      <td>1</td>\n",
       "    </tr>\n",
       "    <tr>\n",
       "      <th>23</th>\n",
       "      <td>1024</td>\n",
       "      <td>1</td>\n",
       "    </tr>\n",
       "    <tr>\n",
       "      <th>24</th>\n",
       "      <td>1025</td>\n",
       "      <td>0</td>\n",
       "    </tr>\n",
       "    <tr>\n",
       "      <th>25</th>\n",
       "      <td>1026</td>\n",
       "      <td>0</td>\n",
       "    </tr>\n",
       "    <tr>\n",
       "      <th>26</th>\n",
       "      <td>1027</td>\n",
       "      <td>1</td>\n",
       "    </tr>\n",
       "    <tr>\n",
       "      <th>27</th>\n",
       "      <td>1028</td>\n",
       "      <td>0</td>\n",
       "    </tr>\n",
       "    <tr>\n",
       "      <th>28</th>\n",
       "      <td>1029</td>\n",
       "      <td>1</td>\n",
       "    </tr>\n",
       "    <tr>\n",
       "      <th>29</th>\n",
       "      <td>1030</td>\n",
       "      <td>1</td>\n",
       "    </tr>\n",
       "    <tr>\n",
       "      <th>...</th>\n",
       "      <td>...</td>\n",
       "      <td>...</td>\n",
       "    </tr>\n",
       "    <tr>\n",
       "      <th>32</th>\n",
       "      <td>1033</td>\n",
       "      <td>0</td>\n",
       "    </tr>\n",
       "    <tr>\n",
       "      <th>33</th>\n",
       "      <td>1034</td>\n",
       "      <td>1</td>\n",
       "    </tr>\n",
       "    <tr>\n",
       "      <th>34</th>\n",
       "      <td>1035</td>\n",
       "      <td>0</td>\n",
       "    </tr>\n",
       "    <tr>\n",
       "      <th>35</th>\n",
       "      <td>1036</td>\n",
       "      <td>0</td>\n",
       "    </tr>\n",
       "    <tr>\n",
       "      <th>36</th>\n",
       "      <td>1037</td>\n",
       "      <td>0</td>\n",
       "    </tr>\n",
       "    <tr>\n",
       "      <th>37</th>\n",
       "      <td>1038</td>\n",
       "      <td>1</td>\n",
       "    </tr>\n",
       "    <tr>\n",
       "      <th>38</th>\n",
       "      <td>1039</td>\n",
       "      <td>0</td>\n",
       "    </tr>\n",
       "    <tr>\n",
       "      <th>39</th>\n",
       "      <td>1040</td>\n",
       "      <td>0</td>\n",
       "    </tr>\n",
       "    <tr>\n",
       "      <th>40</th>\n",
       "      <td>1041</td>\n",
       "      <td>0</td>\n",
       "    </tr>\n",
       "    <tr>\n",
       "      <th>41</th>\n",
       "      <td>1042</td>\n",
       "      <td>1</td>\n",
       "    </tr>\n",
       "    <tr>\n",
       "      <th>42</th>\n",
       "      <td>1043</td>\n",
       "      <td>1</td>\n",
       "    </tr>\n",
       "    <tr>\n",
       "      <th>43</th>\n",
       "      <td>1044</td>\n",
       "      <td>0</td>\n",
       "    </tr>\n",
       "    <tr>\n",
       "      <th>44</th>\n",
       "      <td>1045</td>\n",
       "      <td>0</td>\n",
       "    </tr>\n",
       "    <tr>\n",
       "      <th>45</th>\n",
       "      <td>1046</td>\n",
       "      <td>0</td>\n",
       "    </tr>\n",
       "    <tr>\n",
       "      <th>46</th>\n",
       "      <td>1047</td>\n",
       "      <td>0</td>\n",
       "    </tr>\n",
       "    <tr>\n",
       "      <th>47</th>\n",
       "      <td>1048</td>\n",
       "      <td>1</td>\n",
       "    </tr>\n",
       "    <tr>\n",
       "      <th>48</th>\n",
       "      <td>1049</td>\n",
       "      <td>1</td>\n",
       "    </tr>\n",
       "    <tr>\n",
       "      <th>49</th>\n",
       "      <td>1050</td>\n",
       "      <td>1</td>\n",
       "    </tr>\n",
       "    <tr>\n",
       "      <th>50</th>\n",
       "      <td>1051</td>\n",
       "      <td>1</td>\n",
       "    </tr>\n",
       "    <tr>\n",
       "      <th>51</th>\n",
       "      <td>1052</td>\n",
       "      <td>1</td>\n",
       "    </tr>\n",
       "    <tr>\n",
       "      <th>52</th>\n",
       "      <td>1053</td>\n",
       "      <td>1</td>\n",
       "    </tr>\n",
       "    <tr>\n",
       "      <th>53</th>\n",
       "      <td>1054</td>\n",
       "      <td>1</td>\n",
       "    </tr>\n",
       "    <tr>\n",
       "      <th>54</th>\n",
       "      <td>1055</td>\n",
       "      <td>0</td>\n",
       "    </tr>\n",
       "    <tr>\n",
       "      <th>55</th>\n",
       "      <td>1056</td>\n",
       "      <td>0</td>\n",
       "    </tr>\n",
       "    <tr>\n",
       "      <th>56</th>\n",
       "      <td>1057</td>\n",
       "      <td>1</td>\n",
       "    </tr>\n",
       "    <tr>\n",
       "      <th>57</th>\n",
       "      <td>1058</td>\n",
       "      <td>1</td>\n",
       "    </tr>\n",
       "    <tr>\n",
       "      <th>58</th>\n",
       "      <td>1059</td>\n",
       "      <td>1</td>\n",
       "    </tr>\n",
       "    <tr>\n",
       "      <th>59</th>\n",
       "      <td>1060</td>\n",
       "      <td>1</td>\n",
       "    </tr>\n",
       "    <tr>\n",
       "      <th>60</th>\n",
       "      <td>1061</td>\n",
       "      <td>0</td>\n",
       "    </tr>\n",
       "    <tr>\n",
       "      <th>61</th>\n",
       "      <td>1062</td>\n",
       "      <td>1</td>\n",
       "    </tr>\n",
       "  </tbody>\n",
       "</table>\n",
       "<p>62 rows × 2 columns</p>\n",
       "</div>"
      ],
      "text/plain": [
       "      ID  0\n",
       "0   1001  1\n",
       "1   1002  0\n",
       "2   1003  1\n",
       "3   1004  0\n",
       "4   1005  1\n",
       "5   1006  0\n",
       "6   1007  1\n",
       "7   1008  1\n",
       "8   1009  1\n",
       "9   1010  0\n",
       "10  1011  0\n",
       "11  1012  1\n",
       "12  1013  0\n",
       "13  1014  1\n",
       "14  1015  1\n",
       "15  1016  1\n",
       "16  1017  1\n",
       "17  1018  0\n",
       "18  1019  0\n",
       "19  1020  1\n",
       "20  1021  0\n",
       "21  1022  1\n",
       "22  1023  1\n",
       "23  1024  1\n",
       "24  1025  0\n",
       "25  1026  0\n",
       "26  1027  1\n",
       "27  1028  0\n",
       "28  1029  1\n",
       "29  1030  1\n",
       "..   ... ..\n",
       "32  1033  0\n",
       "33  1034  1\n",
       "34  1035  0\n",
       "35  1036  0\n",
       "36  1037  0\n",
       "37  1038  1\n",
       "38  1039  0\n",
       "39  1040  0\n",
       "40  1041  0\n",
       "41  1042  1\n",
       "42  1043  1\n",
       "43  1044  0\n",
       "44  1045  0\n",
       "45  1046  0\n",
       "46  1047  0\n",
       "47  1048  1\n",
       "48  1049  1\n",
       "49  1050  1\n",
       "50  1051  1\n",
       "51  1052  1\n",
       "52  1053  1\n",
       "53  1054  1\n",
       "54  1055  0\n",
       "55  1056  0\n",
       "56  1057  1\n",
       "57  1058  1\n",
       "58  1059  1\n",
       "59  1060  1\n",
       "60  1061  0\n",
       "61  1062  1\n",
       "\n",
       "[62 rows x 2 columns]"
      ]
     },
     "execution_count": 102,
     "metadata": {},
     "output_type": "execute_result"
    }
   ],
   "source": [
    "output"
   ]
  },
  {
   "cell_type": "code",
   "execution_count": 103,
   "metadata": {},
   "outputs": [],
   "source": [
    "output.to_csv('output1.csv', header=['ID','Labels'], index=False)"
   ]
  },
  {
   "cell_type": "code",
   "execution_count": null,
   "metadata": {},
   "outputs": [],
   "source": []
  }
 ],
 "metadata": {
  "kernelspec": {
   "display_name": "Python 3",
   "language": "python",
   "name": "python3"
  },
  "language_info": {
   "codemirror_mode": {
    "name": "ipython",
    "version": 3
   },
   "file_extension": ".py",
   "mimetype": "text/x-python",
   "name": "python",
   "nbconvert_exporter": "python",
   "pygments_lexer": "ipython3",
   "version": "3.7.3"
  }
 },
 "nbformat": 4,
 "nbformat_minor": 2
}
