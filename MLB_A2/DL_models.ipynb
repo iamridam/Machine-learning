{
 "cells": [
  {
   "cell_type": "code",
   "execution_count": 226,
   "metadata": {},
   "outputs": [],
   "source": [
    "# Ridam Pal PhD19201\n",
    "# Harsh Bandhey 17234\n",
    "# Vishesh Agrawal 18420"
   ]
  },
  {
   "cell_type": "markdown",
   "metadata": {},
   "source": [
    "# Importing the Libraries"
   ]
  },
  {
   "cell_type": "code",
   "execution_count": 202,
   "metadata": {},
   "outputs": [],
   "source": [
    "#importing libraries \n",
    "import numpy as np\n",
    "import pandas as pd\n",
    "import seaborn as sns\n",
    "import matplotlib.pyplot as plt\n",
    "from sklearn.metrics import confusion_matrix"
   ]
  },
  {
   "cell_type": "markdown",
   "metadata": {},
   "source": [
    "# Loading the dataset"
   ]
  },
  {
   "cell_type": "code",
   "execution_count": 203,
   "metadata": {},
   "outputs": [
    {
     "data": {
      "text/plain": [
       "(242, 320)"
      ]
     },
     "execution_count": 203,
     "metadata": {},
     "output_type": "execute_result"
    }
   ],
   "source": [
    "# Reading the csv file \n",
    "df = pd.read_csv('kaggle_train.csv')\n",
    "df.shape"
   ]
  },
  {
   "cell_type": "code",
   "execution_count": 204,
   "metadata": {},
   "outputs": [
    {
     "data": {
      "text/html": [
       "<div>\n",
       "<style scoped>\n",
       "    .dataframe tbody tr th:only-of-type {\n",
       "        vertical-align: middle;\n",
       "    }\n",
       "\n",
       "    .dataframe tbody tr th {\n",
       "        vertical-align: top;\n",
       "    }\n",
       "\n",
       "    .dataframe thead th {\n",
       "        text-align: right;\n",
       "    }\n",
       "</style>\n",
       "<table border=\"1\" class=\"dataframe\">\n",
       "  <thead>\n",
       "    <tr style=\"text-align: right;\">\n",
       "      <th></th>\n",
       "      <th>ID</th>\n",
       "      <th>Labels</th>\n",
       "      <th>ACAN</th>\n",
       "      <th>AGER</th>\n",
       "      <th>ALPK1</th>\n",
       "      <th>ANKRD17</th>\n",
       "      <th>APOB</th>\n",
       "      <th>APPL1</th>\n",
       "      <th>APPL2</th>\n",
       "      <th>ARRB2</th>\n",
       "      <th>...</th>\n",
       "      <th>UBE2N</th>\n",
       "      <th>UBE2V1</th>\n",
       "      <th>UBQLN1</th>\n",
       "      <th>UFD1</th>\n",
       "      <th>UNC93B1</th>\n",
       "      <th>USP17L2</th>\n",
       "      <th>VCAN</th>\n",
       "      <th>WDFY1</th>\n",
       "      <th>XIAP</th>\n",
       "      <th>ZCCHC3</th>\n",
       "    </tr>\n",
       "  </thead>\n",
       "  <tbody>\n",
       "    <tr>\n",
       "      <th>0</th>\n",
       "      <td>TCGA-JW-A5VG</td>\n",
       "      <td>0</td>\n",
       "      <td>13.6584</td>\n",
       "      <td>88.0205</td>\n",
       "      <td>402.5420</td>\n",
       "      <td>1424.2625</td>\n",
       "      <td>3.7940</td>\n",
       "      <td>1001.2330</td>\n",
       "      <td>508.0148</td>\n",
       "      <td>567.2010</td>\n",
       "      <td>...</td>\n",
       "      <td>2437.6363</td>\n",
       "      <td>3413.2107</td>\n",
       "      <td>4135.4453</td>\n",
       "      <td>950.0104</td>\n",
       "      <td>1434.1269</td>\n",
       "      <td>0.0000</td>\n",
       "      <td>31.8695</td>\n",
       "      <td>923.0769</td>\n",
       "      <td>1046.0021</td>\n",
       "      <td>819.1217</td>\n",
       "    </tr>\n",
       "    <tr>\n",
       "      <th>1</th>\n",
       "      <td>TCGA-HG-A2PA</td>\n",
       "      <td>0</td>\n",
       "      <td>22.0844</td>\n",
       "      <td>86.3807</td>\n",
       "      <td>690.4861</td>\n",
       "      <td>2226.3285</td>\n",
       "      <td>20.4071</td>\n",
       "      <td>486.9744</td>\n",
       "      <td>1448.0640</td>\n",
       "      <td>651.9083</td>\n",
       "      <td>...</td>\n",
       "      <td>2153.9253</td>\n",
       "      <td>1817.3762</td>\n",
       "      <td>3426.4325</td>\n",
       "      <td>1380.1196</td>\n",
       "      <td>815.7241</td>\n",
       "      <td>0.0000</td>\n",
       "      <td>1651.0166</td>\n",
       "      <td>1473.7825</td>\n",
       "      <td>1618.8684</td>\n",
       "      <td>615.8465</td>\n",
       "    </tr>\n",
       "    <tr>\n",
       "      <th>2</th>\n",
       "      <td>TCGA-C5-A0TN</td>\n",
       "      <td>0</td>\n",
       "      <td>32.7422</td>\n",
       "      <td>53.0820</td>\n",
       "      <td>128.4882</td>\n",
       "      <td>1073.0497</td>\n",
       "      <td>0.0000</td>\n",
       "      <td>654.8431</td>\n",
       "      <td>492.6206</td>\n",
       "      <td>512.9604</td>\n",
       "      <td>...</td>\n",
       "      <td>3122.4110</td>\n",
       "      <td>3720.6995</td>\n",
       "      <td>3000.3721</td>\n",
       "      <td>2681.3791</td>\n",
       "      <td>1429.2447</td>\n",
       "      <td>0.4961</td>\n",
       "      <td>693.5384</td>\n",
       "      <td>477.2417</td>\n",
       "      <td>1064.6161</td>\n",
       "      <td>804.1672</td>\n",
       "    </tr>\n",
       "    <tr>\n",
       "      <th>3</th>\n",
       "      <td>TCGA-C5-A1BM</td>\n",
       "      <td>0</td>\n",
       "      <td>22.7975</td>\n",
       "      <td>42.1175</td>\n",
       "      <td>634.0804</td>\n",
       "      <td>3285.5487</td>\n",
       "      <td>0.0000</td>\n",
       "      <td>574.9614</td>\n",
       "      <td>513.9104</td>\n",
       "      <td>1033.2303</td>\n",
       "      <td>...</td>\n",
       "      <td>2663.4467</td>\n",
       "      <td>3217.9212</td>\n",
       "      <td>4131.3756</td>\n",
       "      <td>1178.8640</td>\n",
       "      <td>1018.5471</td>\n",
       "      <td>0.0000</td>\n",
       "      <td>675.0386</td>\n",
       "      <td>1596.5997</td>\n",
       "      <td>1666.1515</td>\n",
       "      <td>402.6275</td>\n",
       "    </tr>\n",
       "    <tr>\n",
       "      <th>4</th>\n",
       "      <td>TCGA-EK-A2RA</td>\n",
       "      <td>0</td>\n",
       "      <td>2.5000</td>\n",
       "      <td>134.0625</td>\n",
       "      <td>532.1875</td>\n",
       "      <td>936.5625</td>\n",
       "      <td>0.0000</td>\n",
       "      <td>1933.4375</td>\n",
       "      <td>679.3750</td>\n",
       "      <td>1175.6250</td>\n",
       "      <td>...</td>\n",
       "      <td>1898.4375</td>\n",
       "      <td>3009.1375</td>\n",
       "      <td>2549.3750</td>\n",
       "      <td>1293.1156</td>\n",
       "      <td>744.6875</td>\n",
       "      <td>0.0000</td>\n",
       "      <td>69.0625</td>\n",
       "      <td>1651.5625</td>\n",
       "      <td>1250.3125</td>\n",
       "      <td>982.5000</td>\n",
       "    </tr>\n",
       "  </tbody>\n",
       "</table>\n",
       "<p>5 rows × 320 columns</p>\n",
       "</div>"
      ],
      "text/plain": [
       "             ID  Labels     ACAN      AGER     ALPK1    ANKRD17     APOB  \\\n",
       "0  TCGA-JW-A5VG       0  13.6584   88.0205  402.5420  1424.2625   3.7940   \n",
       "1  TCGA-HG-A2PA       0  22.0844   86.3807  690.4861  2226.3285  20.4071   \n",
       "2  TCGA-C5-A0TN       0  32.7422   53.0820  128.4882  1073.0497   0.0000   \n",
       "3  TCGA-C5-A1BM       0  22.7975   42.1175  634.0804  3285.5487   0.0000   \n",
       "4  TCGA-EK-A2RA       0   2.5000  134.0625  532.1875   936.5625   0.0000   \n",
       "\n",
       "       APPL1      APPL2      ARRB2  ...      UBE2N     UBE2V1     UBQLN1  \\\n",
       "0  1001.2330   508.0148   567.2010  ...  2437.6363  3413.2107  4135.4453   \n",
       "1   486.9744  1448.0640   651.9083  ...  2153.9253  1817.3762  3426.4325   \n",
       "2   654.8431   492.6206   512.9604  ...  3122.4110  3720.6995  3000.3721   \n",
       "3   574.9614   513.9104  1033.2303  ...  2663.4467  3217.9212  4131.3756   \n",
       "4  1933.4375   679.3750  1175.6250  ...  1898.4375  3009.1375  2549.3750   \n",
       "\n",
       "        UFD1    UNC93B1  USP17L2       VCAN      WDFY1       XIAP    ZCCHC3  \n",
       "0   950.0104  1434.1269   0.0000    31.8695   923.0769  1046.0021  819.1217  \n",
       "1  1380.1196   815.7241   0.0000  1651.0166  1473.7825  1618.8684  615.8465  \n",
       "2  2681.3791  1429.2447   0.4961   693.5384   477.2417  1064.6161  804.1672  \n",
       "3  1178.8640  1018.5471   0.0000   675.0386  1596.5997  1666.1515  402.6275  \n",
       "4  1293.1156   744.6875   0.0000    69.0625  1651.5625  1250.3125  982.5000  \n",
       "\n",
       "[5 rows x 320 columns]"
      ]
     },
     "execution_count": 204,
     "metadata": {},
     "output_type": "execute_result"
    }
   ],
   "source": [
    "# Creating the head of the dataframe\n",
    "df.head()"
   ]
  },
  {
   "cell_type": "markdown",
   "metadata": {},
   "source": [
    "# Creating X_train and y_train"
   ]
  },
  {
   "cell_type": "code",
   "execution_count": 205,
   "metadata": {},
   "outputs": [],
   "source": [
    "# put labels into y_train variable\n",
    "y_train = df[\"Labels\"]\n",
    "# Drop 'label' and 'ID' columns for creating X_train\n",
    "X_train = df.drop(labels = [\"Labels\",\"ID\"],axis = 1) "
   ]
  },
  {
   "cell_type": "markdown",
   "metadata": {},
   "source": [
    "# Feature Selection"
   ]
  },
  {
   "cell_type": "code",
   "execution_count": 183,
   "metadata": {},
   "outputs": [
    {
     "name": "stdout",
     "output_type": "stream",
     "text": [
      "Top features:\n",
      "1. feature 68 (0.018041)\n",
      "2. feature 266 (0.011471)\n",
      "3. feature 204 (0.010963)\n",
      "4. feature 267 (0.010941)\n",
      "5. feature 314 (0.010907)\n",
      "6. feature 210 (0.010354)\n",
      "7. feature 201 (0.009529)\n",
      "8. feature 238 (0.009381)\n",
      "9. feature 60 (0.009320)\n",
      "10. feature 199 (0.009224)\n",
      "11. feature 236 (0.008847)\n",
      "12. feature 159 (0.008605)\n",
      "13. feature 231 (0.008544)\n",
      "14. feature 171 (0.008170)\n",
      "15. feature 76 (0.007969)\n",
      "16. feature 232 (0.007798)\n",
      "17. feature 209 (0.007409)\n",
      "18. feature 294 (0.007322)\n",
      "19. feature 278 (0.007178)\n",
      "20. feature 47 (0.007075)\n",
      "21. feature 200 (0.006829)\n",
      "22. feature 58 (0.006720)\n",
      "23. feature 119 (0.006551)\n",
      "24. feature 301 (0.006430)\n",
      "25. feature 264 (0.006202)\n",
      "26. feature 77 (0.006066)\n",
      "27. feature 93 (0.006054)\n",
      "28. feature 74 (0.006009)\n",
      "29. feature 155 (0.005998)\n",
      "30. feature 38 (0.005725)\n"
     ]
    }
   ],
   "source": [
    "# Selecting top 25 features using ExtraTreesClassifier.\n",
    "\n",
    "from sklearn.ensemble import ExtraTreesClassifier\n",
    "\n",
    "TOP_FEATURES = 25\n",
    "\n",
    "forest = ExtraTreesClassifier(n_estimators=250, max_depth=5, random_state=1)\n",
    "forest.fit(X_train, y_train)\n",
    "\n",
    "importances = forest.feature_importances_\n",
    "std = np.std(\n",
    "    [tree.feature_importances_ for tree in forest.estimators_],\n",
    "    axis=0\n",
    ")\n",
    "indices = np.argsort(importances)[::-1]\n",
    "indices = indices[:TOP_FEATURES]\n",
    "\n",
    "print('Top features:')\n",
    "for f in range(TOP_FEATURES):\n",
    "    print('%d. feature %d (%f)' % (f + 1, indices[f], importances[indices[f]]))"
   ]
  },
  {
   "cell_type": "code",
   "execution_count": 184,
   "metadata": {},
   "outputs": [
    {
     "data": {
      "image/png": "[encoded data removed]",
      "text/plain": [
       "<Figure size 1440x720 with 1 Axes>"
      ]
     },
     "metadata": {
      "needs_background": "light"
     },
     "output_type": "display_data"
    }
   ],
   "source": [
    "# Plotting the importance of features.\n",
    "plt.figure(figsize = (20,10))\n",
    "plt.title('Top feature importances')\n",
    "plt.bar(\n",
    "    range(TOP_FEATURES), \n",
    "    importances[indices],\n",
    "    yerr=std[indices], \n",
    ")\n",
    "plt.xticks(range(TOP_FEATURES), indices)\n",
    "plt.show()"
   ]
  },
  {
   "cell_type": "code",
   "execution_count": 41,
   "metadata": {},
   "outputs": [
    {
     "data": {
      "text/plain": [
       "array([ 68, 266, 204, 267, 314, 210, 201, 238,  60, 199, 236, 159, 231,\n",
       "       171,  76, 232, 209, 294, 278,  47, 200,  58, 119, 301, 264,  77,\n",
       "        93,  74, 155,  38], dtype=int64)"
      ]
     },
     "execution_count": 41,
     "metadata": {},
     "output_type": "execute_result"
    }
   ],
   "source": [
    "indices"
   ]
  },
  {
   "cell_type": "code",
   "execution_count": 45,
   "metadata": {},
   "outputs": [],
   "source": [
    "# Selecting top 25 features from all the features.\n",
    "X1 = df.columns.drop(['ID', 'Labels'])\n",
    "X1=X_train.columns.tolist()\n",
    "X1 = [X1[i] for i in indices]"
   ]
  },
  {
   "cell_type": "code",
   "execution_count": 46,
   "metadata": {},
   "outputs": [
    {
     "data": {
      "text/plain": [
       "['CLEC6A',\n",
       " 'TBK1',\n",
       " 'PGLYRP1',\n",
       " 'THBD',\n",
       " 'VCAN',\n",
       " 'PIK3R4',\n",
       " 'PDPK1',\n",
       " 'RTN4',\n",
       " 'CLEC3B',\n",
       " 'OTUD4',\n",
       " 'RPS6KA3',\n",
       " 'MAPKAPK2',\n",
       " 'RIOK3',\n",
       " 'NFKBIA',\n",
       " 'CTSB',\n",
       " 'RIPK1',\n",
       " 'PIK3C3',\n",
       " 'TRAF3',\n",
       " 'TLR5',\n",
       " 'CLEC14A',\n",
       " 'OTULIN',\n",
       " 'CLEC2L',\n",
       " 'IRAK1',\n",
       " 'TYRO3',\n",
       " 'TAB3',\n",
       " 'CTSK',\n",
       " 'FCER2',\n",
       " 'COLEC12',\n",
       " 'LYN',\n",
       " 'CD93']"
      ]
     },
     "execution_count": 46,
     "metadata": {},
     "output_type": "execute_result"
    }
   ],
   "source": [
    "# Printing the important features\n",
    "X1"
   ]
  },
  {
   "cell_type": "code",
   "execution_count": 207,
   "metadata": {},
   "outputs": [],
   "source": [
    "X_train = X_train[X1]"
   ]
  },
  {
   "cell_type": "markdown",
   "metadata": {},
   "source": [
    "# Visualizing the two classes"
   ]
  },
  {
   "cell_type": "code",
   "execution_count": 208,
   "metadata": {},
   "outputs": [
    {
     "data": {
      "text/plain": [
       "1    121\n",
       "0    121\n",
       "Name: Labels, dtype: int64"
      ]
     },
     "execution_count": 208,
     "metadata": {},
     "output_type": "execute_result"
    },
    {
     "data": {
      "image/png": "[encoded data removed]",
      "text/plain": [
       "<Figure size 432x288 with 1 Axes>"
      ]
     },
     "metadata": {
      "needs_background": "light"
     },
     "output_type": "display_data"
    }
   ],
   "source": [
    "# visualize the classes\n",
    "#plt.figure(figsize=(15,7))\n",
    "g = sns.countplot(y_train, palette=\"icefire\")\n",
    "plt.title(\"Classes\")\n",
    "y_train.value_counts()"
   ]
  },
  {
   "cell_type": "code",
   "execution_count": 209,
   "metadata": {},
   "outputs": [
    {
     "data": {
      "text/plain": [
       "(242, 25)"
      ]
     },
     "execution_count": 209,
     "metadata": {},
     "output_type": "execute_result"
    }
   ],
   "source": [
    "# Normalizing the data\n",
    "from sklearn.preprocessing import StandardScaler\n",
    "ss = StandardScaler()\n",
    "X_train = ss.fit_transform(X_train)\n",
    "X_train.shape"
   ]
  },
  {
   "cell_type": "markdown",
   "metadata": {},
   "source": [
    "# Random Forest"
   ]
  },
  {
   "cell_type": "code",
   "execution_count": 210,
   "metadata": {},
   "outputs": [
    {
     "data": {
      "text/plain": [
       "1.0"
      ]
     },
     "execution_count": 210,
     "metadata": {},
     "output_type": "execute_result"
    }
   ],
   "source": [
    "# Without oversampling \n",
    "from sklearn.ensemble import RandomForestClassifier\n",
    "\n",
    "clf = RandomForestClassifier()\n",
    "clf.fit(X_train,y_train)\n",
    "clf.score(X_train,y_train)"
   ]
  },
  {
   "cell_type": "markdown",
   "metadata": {},
   "source": [
    "# Creating Test Dataset"
   ]
  },
  {
   "cell_type": "code",
   "execution_count": 211,
   "metadata": {},
   "outputs": [
    {
     "name": "stdout",
     "output_type": "stream",
     "text": [
      "(62, 319)\n"
     ]
    },
    {
     "data": {
      "text/html": [
       "<div>\n",
       "<style scoped>\n",
       "    .dataframe tbody tr th:only-of-type {\n",
       "        vertical-align: middle;\n",
       "    }\n",
       "\n",
       "    .dataframe tbody tr th {\n",
       "        vertical-align: top;\n",
       "    }\n",
       "\n",
       "    .dataframe thead th {\n",
       "        text-align: right;\n",
       "    }\n",
       "</style>\n",
       "<table border=\"1\" class=\"dataframe\">\n",
       "  <thead>\n",
       "    <tr style=\"text-align: right;\">\n",
       "      <th></th>\n",
       "      <th>ID</th>\n",
       "      <th>ACAN</th>\n",
       "      <th>AGER</th>\n",
       "      <th>ALPK1</th>\n",
       "      <th>ANKRD17</th>\n",
       "      <th>APOB</th>\n",
       "      <th>APPL1</th>\n",
       "      <th>APPL2</th>\n",
       "      <th>ARRB2</th>\n",
       "      <th>ASGR1</th>\n",
       "      <th>...</th>\n",
       "      <th>UBE2N</th>\n",
       "      <th>UBE2V1</th>\n",
       "      <th>UBQLN1</th>\n",
       "      <th>UFD1</th>\n",
       "      <th>UNC93B1</th>\n",
       "      <th>USP17L2</th>\n",
       "      <th>VCAN</th>\n",
       "      <th>WDFY1</th>\n",
       "      <th>XIAP</th>\n",
       "      <th>ZCCHC3</th>\n",
       "    </tr>\n",
       "  </thead>\n",
       "  <tbody>\n",
       "    <tr>\n",
       "      <th>0</th>\n",
       "      <td>1001</td>\n",
       "      <td>91.3265</td>\n",
       "      <td>132.5226</td>\n",
       "      <td>331.5548</td>\n",
       "      <td>1658.7666</td>\n",
       "      <td>0.0000</td>\n",
       "      <td>1068.6189</td>\n",
       "      <td>571.2868</td>\n",
       "      <td>699.8387</td>\n",
       "      <td>9.4305</td>\n",
       "      <td>...</td>\n",
       "      <td>1525.2513</td>\n",
       "      <td>3320.8537</td>\n",
       "      <td>2817.7193</td>\n",
       "      <td>1397.1957</td>\n",
       "      <td>367.7876</td>\n",
       "      <td>0.4963</td>\n",
       "      <td>699.3424</td>\n",
       "      <td>995.6570</td>\n",
       "      <td>1219.0098</td>\n",
       "      <td>840.7991</td>\n",
       "    </tr>\n",
       "    <tr>\n",
       "      <th>1</th>\n",
       "      <td>1002</td>\n",
       "      <td>17.5971</td>\n",
       "      <td>183.2524</td>\n",
       "      <td>558.8592</td>\n",
       "      <td>2321.6019</td>\n",
       "      <td>0.6068</td>\n",
       "      <td>929.0049</td>\n",
       "      <td>783.9806</td>\n",
       "      <td>1039.4417</td>\n",
       "      <td>27.3058</td>\n",
       "      <td>...</td>\n",
       "      <td>2489.6845</td>\n",
       "      <td>2102.5485</td>\n",
       "      <td>3799.1505</td>\n",
       "      <td>906.5534</td>\n",
       "      <td>1187.5000</td>\n",
       "      <td>0.0000</td>\n",
       "      <td>1967.2330</td>\n",
       "      <td>1529.7330</td>\n",
       "      <td>1083.1311</td>\n",
       "      <td>510.3155</td>\n",
       "    </tr>\n",
       "    <tr>\n",
       "      <th>2</th>\n",
       "      <td>1003</td>\n",
       "      <td>120.9309</td>\n",
       "      <td>221.8022</td>\n",
       "      <td>331.8437</td>\n",
       "      <td>891.7940</td>\n",
       "      <td>0.0000</td>\n",
       "      <td>309.4915</td>\n",
       "      <td>403.4852</td>\n",
       "      <td>1430.5385</td>\n",
       "      <td>49.8625</td>\n",
       "      <td>...</td>\n",
       "      <td>1760.6628</td>\n",
       "      <td>4822.9092</td>\n",
       "      <td>3718.4831</td>\n",
       "      <td>1907.9521</td>\n",
       "      <td>1732.0061</td>\n",
       "      <td>0.0000</td>\n",
       "      <td>1190.9692</td>\n",
       "      <td>1156.5812</td>\n",
       "      <td>710.6842</td>\n",
       "      <td>689.4783</td>\n",
       "    </tr>\n",
       "    <tr>\n",
       "      <th>3</th>\n",
       "      <td>1004</td>\n",
       "      <td>12.0930</td>\n",
       "      <td>41.8605</td>\n",
       "      <td>886.5116</td>\n",
       "      <td>2216.7442</td>\n",
       "      <td>0.0000</td>\n",
       "      <td>792.5581</td>\n",
       "      <td>1012.0930</td>\n",
       "      <td>637.2093</td>\n",
       "      <td>3.7209</td>\n",
       "      <td>...</td>\n",
       "      <td>1872.5581</td>\n",
       "      <td>2342.0093</td>\n",
       "      <td>3280.9302</td>\n",
       "      <td>1115.3116</td>\n",
       "      <td>773.0233</td>\n",
       "      <td>0.0000</td>\n",
       "      <td>63.2558</td>\n",
       "      <td>1065.1163</td>\n",
       "      <td>1385.1163</td>\n",
       "      <td>563.7209</td>\n",
       "    </tr>\n",
       "    <tr>\n",
       "      <th>4</th>\n",
       "      <td>1005</td>\n",
       "      <td>84.0622</td>\n",
       "      <td>34.4995</td>\n",
       "      <td>145.7726</td>\n",
       "      <td>1266.2779</td>\n",
       "      <td>0.4859</td>\n",
       "      <td>1362.4879</td>\n",
       "      <td>830.9038</td>\n",
       "      <td>1064.1399</td>\n",
       "      <td>85.5199</td>\n",
       "      <td>...</td>\n",
       "      <td>1932.9446</td>\n",
       "      <td>3220.9184</td>\n",
       "      <td>3153.5471</td>\n",
       "      <td>1168.6054</td>\n",
       "      <td>965.5005</td>\n",
       "      <td>0.0000</td>\n",
       "      <td>1168.6103</td>\n",
       "      <td>581.6327</td>\n",
       "      <td>878.5228</td>\n",
       "      <td>607.8717</td>\n",
       "    </tr>\n",
       "  </tbody>\n",
       "</table>\n",
       "<p>5 rows × 319 columns</p>\n",
       "</div>"
      ],
      "text/plain": [
       "     ID      ACAN      AGER     ALPK1    ANKRD17    APOB      APPL1  \\\n",
       "0  1001   91.3265  132.5226  331.5548  1658.7666  0.0000  1068.6189   \n",
       "1  1002   17.5971  183.2524  558.8592  2321.6019  0.6068   929.0049   \n",
       "2  1003  120.9309  221.8022  331.8437   891.7940  0.0000   309.4915   \n",
       "3  1004   12.0930   41.8605  886.5116  2216.7442  0.0000   792.5581   \n",
       "4  1005   84.0622   34.4995  145.7726  1266.2779  0.4859  1362.4879   \n",
       "\n",
       "       APPL2      ARRB2    ASGR1  ...      UBE2N     UBE2V1     UBQLN1  \\\n",
       "0   571.2868   699.8387   9.4305  ...  1525.2513  3320.8537  2817.7193   \n",
       "1   783.9806  1039.4417  27.3058  ...  2489.6845  2102.5485  3799.1505   \n",
       "2   403.4852  1430.5385  49.8625  ...  1760.6628  4822.9092  3718.4831   \n",
       "3  1012.0930   637.2093   3.7209  ...  1872.5581  2342.0093  3280.9302   \n",
       "4   830.9038  1064.1399  85.5199  ...  1932.9446  3220.9184  3153.5471   \n",
       "\n",
       "        UFD1    UNC93B1  USP17L2       VCAN      WDFY1       XIAP    ZCCHC3  \n",
       "0  1397.1957   367.7876   0.4963   699.3424   995.6570  1219.0098  840.7991  \n",
       "1   906.5534  1187.5000   0.0000  1967.2330  1529.7330  1083.1311  510.3155  \n",
       "2  1907.9521  1732.0061   0.0000  1190.9692  1156.5812   710.6842  689.4783  \n",
       "3  1115.3116   773.0233   0.0000    63.2558  1065.1163  1385.1163  563.7209  \n",
       "4  1168.6054   965.5005   0.0000  1168.6103   581.6327   878.5228  607.8717  \n",
       "\n",
       "[5 rows x 319 columns]"
      ]
     },
     "execution_count": 211,
     "metadata": {},
     "output_type": "execute_result"
    }
   ],
   "source": [
    "# Reading the csv file \n",
    "df_test = pd.read_csv('kaggle_test.csv')\n",
    "print(df_test.shape)\n",
    "df_test.head()"
   ]
  },
  {
   "cell_type": "code",
   "execution_count": 212,
   "metadata": {},
   "outputs": [],
   "source": [
    "# Drop 'label' column for creating X_train\n",
    "X_test = df_test.drop(labels = [\"ID\"],axis = 1) "
   ]
  },
  {
   "cell_type": "code",
   "execution_count": 213,
   "metadata": {},
   "outputs": [],
   "source": [
    "lab = df_test.ID"
   ]
  },
  {
   "cell_type": "code",
   "execution_count": 214,
   "metadata": {},
   "outputs": [
    {
     "data": {
      "text/plain": [
       "pandas.core.series.Series"
      ]
     },
     "execution_count": 214,
     "metadata": {},
     "output_type": "execute_result"
    }
   ],
   "source": [
    "type(lab)"
   ]
  },
  {
   "cell_type": "code",
   "execution_count": 215,
   "metadata": {},
   "outputs": [],
   "source": [
    "X_test = X_test[X1]"
   ]
  },
  {
   "cell_type": "markdown",
   "metadata": {},
   "source": [
    "# Normalizing the Test data"
   ]
  },
  {
   "cell_type": "code",
   "execution_count": 216,
   "metadata": {},
   "outputs": [
    {
     "data": {
      "text/plain": [
       "(62, 25)"
      ]
     },
     "execution_count": 216,
     "metadata": {},
     "output_type": "execute_result"
    }
   ],
   "source": [
    "# Normalizing the test data\n",
    "from sklearn.preprocessing import StandardScaler\n",
    "ss = StandardScaler()\n",
    "X_test = ss.fit_transform(X_test)\n",
    "X_test.shape"
   ]
  },
  {
   "cell_type": "code",
   "execution_count": 196,
   "metadata": {},
   "outputs": [],
   "source": [
    "pred = clf.predict(X_test)\n",
    "predict = pd.Series(pred)"
   ]
  },
  {
   "cell_type": "code",
   "execution_count": 49,
   "metadata": {},
   "outputs": [
    {
     "data": {
      "text/plain": [
       "(62,)"
      ]
     },
     "execution_count": 49,
     "metadata": {},
     "output_type": "execute_result"
    }
   ],
   "source": [
    "predict.shape"
   ]
  },
  {
   "cell_type": "code",
   "execution_count": 44,
   "metadata": {},
   "outputs": [
    {
     "data": {
      "text/plain": [
       "pandas.core.series.Series"
      ]
     },
     "execution_count": 44,
     "metadata": {},
     "output_type": "execute_result"
    }
   ],
   "source": [
    "type(predict)"
   ]
  },
  {
   "cell_type": "code",
   "execution_count": 45,
   "metadata": {},
   "outputs": [
    {
     "data": {
      "text/html": [
       "<div>\n",
       "<style scoped>\n",
       "    .dataframe tbody tr th:only-of-type {\n",
       "        vertical-align: middle;\n",
       "    }\n",
       "\n",
       "    .dataframe tbody tr th {\n",
       "        vertical-align: top;\n",
       "    }\n",
       "\n",
       "    .dataframe thead th {\n",
       "        text-align: right;\n",
       "    }\n",
       "</style>\n",
       "<table border=\"1\" class=\"dataframe\">\n",
       "  <thead>\n",
       "    <tr style=\"text-align: right;\">\n",
       "      <th></th>\n",
       "      <th>ID</th>\n",
       "      <th>0</th>\n",
       "    </tr>\n",
       "  </thead>\n",
       "  <tbody>\n",
       "    <tr>\n",
       "      <th>0</th>\n",
       "      <td>1001</td>\n",
       "      <td>0</td>\n",
       "    </tr>\n",
       "    <tr>\n",
       "      <th>1</th>\n",
       "      <td>1002</td>\n",
       "      <td>1</td>\n",
       "    </tr>\n",
       "    <tr>\n",
       "      <th>2</th>\n",
       "      <td>1003</td>\n",
       "      <td>1</td>\n",
       "    </tr>\n",
       "    <tr>\n",
       "      <th>3</th>\n",
       "      <td>1004</td>\n",
       "      <td>1</td>\n",
       "    </tr>\n",
       "    <tr>\n",
       "      <th>4</th>\n",
       "      <td>1005</td>\n",
       "      <td>0</td>\n",
       "    </tr>\n",
       "  </tbody>\n",
       "</table>\n",
       "</div>"
      ],
      "text/plain": [
       "     ID  0\n",
       "0  1001  0\n",
       "1  1002  1\n",
       "2  1003  1\n",
       "3  1004  1\n",
       "4  1005  0"
      ]
     },
     "execution_count": 45,
     "metadata": {},
     "output_type": "execute_result"
    }
   ],
   "source": [
    "output = pd.concat([lab,predict],axis=1)\n",
    "output.head()"
   ]
  },
  {
   "cell_type": "code",
   "execution_count": 46,
   "metadata": {},
   "outputs": [],
   "source": [
    "output.to_csv('output13.csv', header=['ID','Labels'], index=False)"
   ]
  },
  {
   "cell_type": "markdown",
   "metadata": {},
   "source": [
    "# ANN"
   ]
  },
  {
   "cell_type": "code",
   "execution_count": 217,
   "metadata": {},
   "outputs": [],
   "source": [
    "#Dependencies\n",
    "import keras\n",
    "from keras.models import Sequential\n",
    "from keras.layers import Dense\n",
    "\n",
    "# Neural network of 4-layers architectur\n",
    "model = Sequential()\n",
    "model.add(Dense(1024, input_dim=25, activation='relu'))\n",
    "model.add(Dense(512, activation='relu'))\n",
    "model.add(Dense(512, activation='relu'))\n",
    "model.add(Dense(1024, activation='relu'))\n",
    "model.add(Dense(2, activation='softmax'))"
   ]
  },
  {
   "cell_type": "code",
   "execution_count": 218,
   "metadata": {},
   "outputs": [],
   "source": [
    "model.compile(loss='sparse_categorical_crossentropy', optimizer='adam', metrics=['accuracy'])"
   ]
  },
  {
   "cell_type": "code",
   "execution_count": 219,
   "metadata": {},
   "outputs": [
    {
     "name": "stdout",
     "output_type": "stream",
     "text": [
      "Epoch 1/50\n",
      "242/242 [==============================] - 0s 2ms/step - loss: 0.6666 - accuracy: 0.5950\n",
      "Epoch 2/50\n",
      "242/242 [==============================] - 0s 1ms/step - loss: 0.5163 - accuracy: 0.7521\n",
      "Epoch 3/50\n",
      "242/242 [==============================] - 0s 1ms/step - loss: 0.3638 - accuracy: 0.8554\n",
      "Epoch 4/50\n",
      "242/242 [==============================] - 0s 1ms/step - loss: 0.2202 - accuracy: 0.9091\n",
      "Epoch 5/50\n",
      "242/242 [==============================] - 0s 1ms/step - loss: 0.1061 - accuracy: 0.9504\n",
      "Epoch 6/50\n",
      "242/242 [==============================] - 0s 1ms/step - loss: 0.0900 - accuracy: 0.9711\n",
      "Epoch 7/50\n",
      "242/242 [==============================] - 0s 1ms/step - loss: 0.1414 - accuracy: 0.9628\n",
      "Epoch 8/50\n",
      "242/242 [==============================] - 0s 1ms/step - loss: 0.0619 - accuracy: 0.9835\n",
      "Epoch 9/50\n",
      "242/242 [==============================] - 0s 1ms/step - loss: 0.0356 - accuracy: 0.9917\n",
      "Epoch 10/50\n",
      "242/242 [==============================] - 0s 1ms/step - loss: 0.0452 - accuracy: 0.9752\n",
      "Epoch 11/50\n",
      "242/242 [==============================] - 0s 1ms/step - loss: 0.0467 - accuracy: 0.9752\n",
      "Epoch 12/50\n",
      "242/242 [==============================] - 0s 1ms/step - loss: 0.0400 - accuracy: 0.9835\n",
      "Epoch 13/50\n",
      "242/242 [==============================] - 0s 1ms/step - loss: 0.0327 - accuracy: 0.9835\n",
      "Epoch 14/50\n",
      "242/242 [==============================] - 0s 1ms/step - loss: 0.0890 - accuracy: 0.9711\n",
      "Epoch 15/50\n",
      "242/242 [==============================] - 0s 1ms/step - loss: 0.1026 - accuracy: 0.9628\n",
      "Epoch 16/50\n",
      "242/242 [==============================] - 0s 1ms/step - loss: 0.0448 - accuracy: 0.9876\n",
      "Epoch 17/50\n",
      "242/242 [==============================] - 0s 1ms/step - loss: 0.0111 - accuracy: 1.0000\n",
      "Epoch 18/50\n",
      "242/242 [==============================] - 0s 1ms/step - loss: 0.0054 - accuracy: 1.0000\n",
      "Epoch 19/50\n",
      "242/242 [==============================] - 0s 1ms/step - loss: 0.0098 - accuracy: 0.9959\n",
      "Epoch 20/50\n",
      "242/242 [==============================] - 0s 1ms/step - loss: 0.0164 - accuracy: 0.9917\n",
      "Epoch 21/50\n",
      "242/242 [==============================] - 0s 1ms/step - loss: 0.0201 - accuracy: 0.9959\n",
      "Epoch 22/50\n",
      "242/242 [==============================] - 0s 1ms/step - loss: 0.0062 - accuracy: 0.9959\n",
      "Epoch 23/50\n",
      "242/242 [==============================] - 0s 1ms/step - loss: 0.0057 - accuracy: 0.9959\n",
      "Epoch 24/50\n",
      "242/242 [==============================] - 0s 1ms/step - loss: 0.0041 - accuracy: 1.0000\n",
      "Epoch 25/50\n",
      "242/242 [==============================] - 0s 1ms/step - loss: 3.2146e-04 - accuracy: 1.0000\n",
      "Epoch 26/50\n",
      "242/242 [==============================] - 0s 1ms/step - loss: 5.9313e-04 - accuracy: 1.0000\n",
      "Epoch 27/50\n",
      "242/242 [==============================] - 0s 1ms/step - loss: 2.7891e-04 - accuracy: 1.0000\n",
      "Epoch 28/50\n",
      "242/242 [==============================] - 0s 1ms/step - loss: 1.4671e-04 - accuracy: 1.0000\n",
      "Epoch 29/50\n",
      "242/242 [==============================] - 0s 1ms/step - loss: 1.0127e-04 - accuracy: 1.0000\n",
      "Epoch 30/50\n",
      "242/242 [==============================] - 0s 1ms/step - loss: 8.5404e-05 - accuracy: 1.0000\n",
      "Epoch 31/50\n",
      "242/242 [==============================] - 0s 1ms/step - loss: 7.3502e-05 - accuracy: 1.0000\n",
      "Epoch 32/50\n",
      "242/242 [==============================] - 0s 1ms/step - loss: 6.3984e-05 - accuracy: 1.0000\n",
      "Epoch 33/50\n",
      "242/242 [==============================] - 0s 1ms/step - loss: 5.7436e-05 - accuracy: 1.0000\n",
      "Epoch 34/50\n",
      "242/242 [==============================] - 0s 1ms/step - loss: 5.1363e-05 - accuracy: 1.0000\n",
      "Epoch 35/50\n",
      "242/242 [==============================] - 0s 1ms/step - loss: 4.5315e-05 - accuracy: 1.0000\n",
      "Epoch 36/50\n",
      "242/242 [==============================] - 0s 1ms/step - loss: 4.0781e-05 - accuracy: 1.0000\n",
      "Epoch 37/50\n",
      "242/242 [==============================] - 0s 1ms/step - loss: 3.6714e-05 - accuracy: 1.0000\n",
      "Epoch 38/50\n",
      "242/242 [==============================] - 0s 1ms/step - loss: 3.3232e-05 - accuracy: 1.0000\n",
      "Epoch 39/50\n",
      "242/242 [==============================] - 0s 1ms/step - loss: 2.9837e-05 - accuracy: 1.0000\n",
      "Epoch 40/50\n",
      "242/242 [==============================] - 0s 1ms/step - loss: 2.7091e-05 - accuracy: 1.0000\n",
      "Epoch 41/50\n",
      "242/242 [==============================] - 0s 1ms/step - loss: 2.4793e-05 - accuracy: 1.0000\n",
      "Epoch 42/50\n",
      "242/242 [==============================] - 0s 1ms/step - loss: 2.2442e-05 - accuracy: 1.0000\n",
      "Epoch 43/50\n",
      "242/242 [==============================] - 0s 1ms/step - loss: 2.0482e-05 - accuracy: 1.0000\n",
      "Epoch 44/50\n",
      "242/242 [==============================] - 0s 1ms/step - loss: 1.8936e-05 - accuracy: 1.0000\n",
      "Epoch 45/50\n",
      "242/242 [==============================] - 0s 1ms/step - loss: 1.7372e-05 - accuracy: 1.0000\n",
      "Epoch 46/50\n",
      "242/242 [==============================] - 0s 1ms/step - loss: 1.6162e-05 - accuracy: 1.0000\n",
      "Epoch 47/50\n",
      "242/242 [==============================] - 0s 1ms/step - loss: 1.4966e-05 - accuracy: 1.0000\n",
      "Epoch 48/50\n",
      "242/242 [==============================] - 0s 1ms/step - loss: 1.3905e-05 - accuracy: 1.0000\n",
      "Epoch 49/50\n",
      "242/242 [==============================] - 0s 1ms/step - loss: 1.2980e-05 - accuracy: 1.0000\n",
      "Epoch 50/50\n",
      "242/242 [==============================] - 0s 1ms/step - loss: 1.2172e-05 - accuracy: 1.0000\n"
     ]
    }
   ],
   "source": [
    "history = model.fit(X_train,y_train, epochs=50)"
   ]
  },
  {
   "cell_type": "code",
   "execution_count": 220,
   "metadata": {},
   "outputs": [],
   "source": [
    "y_predict = model.predict(X_test)"
   ]
  },
  {
   "cell_type": "code",
   "execution_count": 221,
   "metadata": {},
   "outputs": [
    {
     "data": {
      "text/plain": [
       "(62, 2)"
      ]
     },
     "execution_count": 221,
     "metadata": {},
     "output_type": "execute_result"
    }
   ],
   "source": [
    "y_predict\n",
    "y_predict.shape"
   ]
  },
  {
   "cell_type": "code",
   "execution_count": 222,
   "metadata": {},
   "outputs": [],
   "source": [
    "import numpy as np\n",
    "predict = list()\n",
    "for i in range(len(y_predict)):\n",
    "    predict.append(np.argmax(y_predict[i]))"
   ]
  },
  {
   "cell_type": "code",
   "execution_count": 223,
   "metadata": {},
   "outputs": [],
   "source": [
    "predict = pd.Series(predict) "
   ]
  },
  {
   "cell_type": "code",
   "execution_count": 224,
   "metadata": {},
   "outputs": [
    {
     "data": {
      "text/html": [
       "<div>\n",
       "<style scoped>\n",
       "    .dataframe tbody tr th:only-of-type {\n",
       "        vertical-align: middle;\n",
       "    }\n",
       "\n",
       "    .dataframe tbody tr th {\n",
       "        vertical-align: top;\n",
       "    }\n",
       "\n",
       "    .dataframe thead th {\n",
       "        text-align: right;\n",
       "    }\n",
       "</style>\n",
       "<table border=\"1\" class=\"dataframe\">\n",
       "  <thead>\n",
       "    <tr style=\"text-align: right;\">\n",
       "      <th></th>\n",
       "      <th>ID</th>\n",
       "      <th>0</th>\n",
       "    </tr>\n",
       "  </thead>\n",
       "  <tbody>\n",
       "    <tr>\n",
       "      <th>0</th>\n",
       "      <td>1001</td>\n",
       "      <td>0</td>\n",
       "    </tr>\n",
       "    <tr>\n",
       "      <th>1</th>\n",
       "      <td>1002</td>\n",
       "      <td>0</td>\n",
       "    </tr>\n",
       "    <tr>\n",
       "      <th>2</th>\n",
       "      <td>1003</td>\n",
       "      <td>1</td>\n",
       "    </tr>\n",
       "    <tr>\n",
       "      <th>3</th>\n",
       "      <td>1004</td>\n",
       "      <td>1</td>\n",
       "    </tr>\n",
       "    <tr>\n",
       "      <th>4</th>\n",
       "      <td>1005</td>\n",
       "      <td>0</td>\n",
       "    </tr>\n",
       "  </tbody>\n",
       "</table>\n",
       "</div>"
      ],
      "text/plain": [
       "     ID  0\n",
       "0  1001  0\n",
       "1  1002  0\n",
       "2  1003  1\n",
       "3  1004  1\n",
       "4  1005  0"
      ]
     },
     "execution_count": 224,
     "metadata": {},
     "output_type": "execute_result"
    }
   ],
   "source": [
    "output = pd.concat([lab,predict],axis=1)\n",
    "output.head()"
   ]
  },
  {
   "cell_type": "code",
   "execution_count": 225,
   "metadata": {},
   "outputs": [],
   "source": [
    "output.to_csv('output29.csv', header=['ID','Labels'], index=False)"
   ]
  },
  {
   "cell_type": "code",
   "execution_count": null,
   "metadata": {},
   "outputs": [],
   "source": []
  }
 ],
 "metadata": {
  "kernelspec": {
   "display_name": "Python 3",
   "language": "python",
   "name": "python3"
  },
  "language_info": {
   "codemirror_mode": {
    "name": "ipython",
    "version": 3
   },
   "file_extension": ".py",
   "mimetype": "text/x-python",
   "name": "python",
   "nbconvert_exporter": "python",
   "pygments_lexer": "ipython3",
   "version": "3.7.3"
  }
 },
 "nbformat": 4,
 "nbformat_minor": 2
}
