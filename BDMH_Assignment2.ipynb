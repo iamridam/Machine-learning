{
 "cells": [
  {
   "cell_type": "code",
   "execution_count": 3,
   "metadata": {},
   "outputs": [],
   "source": [
    "import numpy as np\n",
    "import pandas as pd"
   ]
  },
  {
   "cell_type": "code",
   "execution_count": 4,
   "metadata": {},
   "outputs": [],
   "source": [
    "train_data = pd.read_csv('train.csv')\n",
    "test_data  = pd.read_csv('test.csv')"
   ]
  },
  {
   "cell_type": "code",
   "execution_count": 5,
   "metadata": {},
   "outputs": [
    {
     "data": {
      "text/html": [
       "<div>\n",
       "<style scoped>\n",
       "    .dataframe tbody tr th:only-of-type {\n",
       "        vertical-align: middle;\n",
       "    }\n",
       "\n",
       "    .dataframe tbody tr th {\n",
       "        vertical-align: top;\n",
       "    }\n",
       "\n",
       "    .dataframe thead th {\n",
       "        text-align: right;\n",
       "    }\n",
       "</style>\n",
       "<table border=\"1\" class=\"dataframe\">\n",
       "  <thead>\n",
       "    <tr style=\"text-align: right;\">\n",
       "      <th></th>\n",
       "      <th>id</th>\n",
       "      <th>Label</th>\n",
       "      <th>ENSG00000242268.2</th>\n",
       "      <th>ENSG00000270112.3</th>\n",
       "      <th>ENSG00000167578.15</th>\n",
       "      <th>ENSG00000273842.1</th>\n",
       "      <th>ENSG00000078237.5</th>\n",
       "      <th>ENSG00000146083.10</th>\n",
       "      <th>ENSG00000225275.4</th>\n",
       "      <th>ENSG00000158486.12</th>\n",
       "      <th>...</th>\n",
       "      <th>ENSG00000238244.3</th>\n",
       "      <th>ENSG00000186115.11</th>\n",
       "      <th>ENSG00000216352.1</th>\n",
       "      <th>ENSG00000267117.1</th>\n",
       "      <th>ENSG00000273233.1</th>\n",
       "      <th>ENSG00000105063.17</th>\n",
       "      <th>ENSG00000231119.2</th>\n",
       "      <th>ENSG00000280861.1</th>\n",
       "      <th>ENSG00000123685.7</th>\n",
       "      <th>ENSG00000181518.3</th>\n",
       "    </tr>\n",
       "  </thead>\n",
       "  <tbody>\n",
       "    <tr>\n",
       "      <th>0</th>\n",
       "      <td>TCGA-2V-A95S-01A</td>\n",
       "      <td>-1</td>\n",
       "      <td>1.322600</td>\n",
       "      <td>0.000000</td>\n",
       "      <td>2.60713</td>\n",
       "      <td>0</td>\n",
       "      <td>1.411440</td>\n",
       "      <td>3.27352</td>\n",
       "      <td>0</td>\n",
       "      <td>0.006410</td>\n",
       "      <td>...</td>\n",
       "      <td>0</td>\n",
       "      <td>2.710970</td>\n",
       "      <td>0.0</td>\n",
       "      <td>0.435580</td>\n",
       "      <td>0.000000</td>\n",
       "      <td>3.90541</td>\n",
       "      <td>0.017601</td>\n",
       "      <td>0</td>\n",
       "      <td>1.708020</td>\n",
       "      <td>0.0</td>\n",
       "    </tr>\n",
       "    <tr>\n",
       "      <th>1</th>\n",
       "      <td>TCGA-2Y-A9GU-01A</td>\n",
       "      <td>1</td>\n",
       "      <td>0.000000</td>\n",
       "      <td>0.006431</td>\n",
       "      <td>1.49737</td>\n",
       "      <td>0</td>\n",
       "      <td>0.598584</td>\n",
       "      <td>2.39426</td>\n",
       "      <td>0</td>\n",
       "      <td>0.006599</td>\n",
       "      <td>...</td>\n",
       "      <td>0</td>\n",
       "      <td>0.812853</td>\n",
       "      <td>0.0</td>\n",
       "      <td>0.208534</td>\n",
       "      <td>0.147081</td>\n",
       "      <td>4.05334</td>\n",
       "      <td>0.368102</td>\n",
       "      <td>0</td>\n",
       "      <td>0.182464</td>\n",
       "      <td>0.0</td>\n",
       "    </tr>\n",
       "    <tr>\n",
       "      <th>2</th>\n",
       "      <td>TCGA-2Y-A9GV-01A</td>\n",
       "      <td>1</td>\n",
       "      <td>0.000000</td>\n",
       "      <td>0.000000</td>\n",
       "      <td>1.28544</td>\n",
       "      <td>0</td>\n",
       "      <td>1.366550</td>\n",
       "      <td>2.36780</td>\n",
       "      <td>0</td>\n",
       "      <td>0.005341</td>\n",
       "      <td>...</td>\n",
       "      <td>0</td>\n",
       "      <td>6.645780</td>\n",
       "      <td>0.0</td>\n",
       "      <td>0.170978</td>\n",
       "      <td>0.176644</td>\n",
       "      <td>2.90339</td>\n",
       "      <td>0.262281</td>\n",
       "      <td>0</td>\n",
       "      <td>0.386022</td>\n",
       "      <td>0.0</td>\n",
       "    </tr>\n",
       "    <tr>\n",
       "      <th>3</th>\n",
       "      <td>TCGA-2Y-A9GX-01A</td>\n",
       "      <td>1</td>\n",
       "      <td>0.201191</td>\n",
       "      <td>0.000000</td>\n",
       "      <td>1.45312</td>\n",
       "      <td>0</td>\n",
       "      <td>1.566180</td>\n",
       "      <td>2.84619</td>\n",
       "      <td>0</td>\n",
       "      <td>0.006135</td>\n",
       "      <td>...</td>\n",
       "      <td>0</td>\n",
       "      <td>5.085340</td>\n",
       "      <td>0.0</td>\n",
       "      <td>0.067894</td>\n",
       "      <td>0.000000</td>\n",
       "      <td>3.70349</td>\n",
       "      <td>0.422939</td>\n",
       "      <td>0</td>\n",
       "      <td>0.666707</td>\n",
       "      <td>0.0</td>\n",
       "    </tr>\n",
       "    <tr>\n",
       "      <th>4</th>\n",
       "      <td>TCGA-2Y-A9GY-01A</td>\n",
       "      <td>-1</td>\n",
       "      <td>0.043040</td>\n",
       "      <td>0.000000</td>\n",
       "      <td>2.25014</td>\n",
       "      <td>0</td>\n",
       "      <td>1.421440</td>\n",
       "      <td>2.73472</td>\n",
       "      <td>0</td>\n",
       "      <td>0.024669</td>\n",
       "      <td>...</td>\n",
       "      <td>0</td>\n",
       "      <td>0.140969</td>\n",
       "      <td>0.0</td>\n",
       "      <td>0.370195</td>\n",
       "      <td>0.000000</td>\n",
       "      <td>3.85624</td>\n",
       "      <td>0.236684</td>\n",
       "      <td>0</td>\n",
       "      <td>0.513950</td>\n",
       "      <td>0.0</td>\n",
       "    </tr>\n",
       "  </tbody>\n",
       "</table>\n",
       "<p>5 rows × 60485 columns</p>\n",
       "</div>"
      ],
      "text/plain": [
       "                 id  Label  ENSG00000242268.2  ENSG00000270112.3  \\\n",
       "0  TCGA-2V-A95S-01A     -1           1.322600           0.000000   \n",
       "1  TCGA-2Y-A9GU-01A      1           0.000000           0.006431   \n",
       "2  TCGA-2Y-A9GV-01A      1           0.000000           0.000000   \n",
       "3  TCGA-2Y-A9GX-01A      1           0.201191           0.000000   \n",
       "4  TCGA-2Y-A9GY-01A     -1           0.043040           0.000000   \n",
       "\n",
       "   ENSG00000167578.15  ENSG00000273842.1  ENSG00000078237.5  \\\n",
       "0             2.60713                  0           1.411440   \n",
       "1             1.49737                  0           0.598584   \n",
       "2             1.28544                  0           1.366550   \n",
       "3             1.45312                  0           1.566180   \n",
       "4             2.25014                  0           1.421440   \n",
       "\n",
       "   ENSG00000146083.10  ENSG00000225275.4  ENSG00000158486.12  ...  \\\n",
       "0             3.27352                  0            0.006410  ...   \n",
       "1             2.39426                  0            0.006599  ...   \n",
       "2             2.36780                  0            0.005341  ...   \n",
       "3             2.84619                  0            0.006135  ...   \n",
       "4             2.73472                  0            0.024669  ...   \n",
       "\n",
       "   ENSG00000238244.3  ENSG00000186115.11  ENSG00000216352.1  \\\n",
       "0                  0            2.710970                0.0   \n",
       "1                  0            0.812853                0.0   \n",
       "2                  0            6.645780                0.0   \n",
       "3                  0            5.085340                0.0   \n",
       "4                  0            0.140969                0.0   \n",
       "\n",
       "   ENSG00000267117.1  ENSG00000273233.1  ENSG00000105063.17  \\\n",
       "0           0.435580           0.000000             3.90541   \n",
       "1           0.208534           0.147081             4.05334   \n",
       "2           0.170978           0.176644             2.90339   \n",
       "3           0.067894           0.000000             3.70349   \n",
       "4           0.370195           0.000000             3.85624   \n",
       "\n",
       "   ENSG00000231119.2  ENSG00000280861.1  ENSG00000123685.7  ENSG00000181518.3  \n",
       "0           0.017601                  0           1.708020                0.0  \n",
       "1           0.368102                  0           0.182464                0.0  \n",
       "2           0.262281                  0           0.386022                0.0  \n",
       "3           0.422939                  0           0.666707                0.0  \n",
       "4           0.236684                  0           0.513950                0.0  \n",
       "\n",
       "[5 rows x 60485 columns]"
      ]
     },
     "execution_count": 5,
     "metadata": {},
     "output_type": "execute_result"
    }
   ],
   "source": [
    "train_data.head()"
   ]
  },
  {
   "cell_type": "code",
   "execution_count": 6,
   "metadata": {},
   "outputs": [
    {
     "data": {
      "text/plain": [
       "(279, 60485)"
      ]
     },
     "execution_count": 6,
     "metadata": {},
     "output_type": "execute_result"
    }
   ],
   "source": [
    "train_data.shape"
   ]
  },
  {
   "cell_type": "code",
   "execution_count": 7,
   "metadata": {},
   "outputs": [],
   "source": [
    "X = train_data.drop(columns=['id', 'Label'])\n",
    "y = train_data.iloc[:, 1]"
   ]
  },
  {
   "cell_type": "code",
   "execution_count": 8,
   "metadata": {},
   "outputs": [
    {
     "data": {
      "text/plain": [
       "0   -1\n",
       "1    1\n",
       "2    1\n",
       "3    1\n",
       "4   -1\n",
       "Name: Label, dtype: int64"
      ]
     },
     "execution_count": 8,
     "metadata": {},
     "output_type": "execute_result"
    }
   ],
   "source": [
    "y.head()"
   ]
  },
  {
   "cell_type": "code",
   "execution_count": 9,
   "metadata": {},
   "outputs": [],
   "source": [
    "from sklearn.model_selection import train_test_split\n",
    "# split into 80:20 ration\n",
    "X_train, X_CV, y_train, y_CV = train_test_split(X, y, test_size = 0.2)"
   ]
  },
  {
   "cell_type": "code",
   "execution_count": 10,
   "metadata": {},
   "outputs": [],
   "source": [
    "from sklearn.feature_selection import f_classif\n",
    "from sklearn.feature_selection import SelectKBest"
   ]
  },
  {
   "cell_type": "code",
   "execution_count": 24,
   "metadata": {},
   "outputs": [
    {
     "name": "stderr",
     "output_type": "stream",
     "text": [
      "C:\\Users\\Ridam\\Anaconda3\\lib\\site-packages\\sklearn\\feature_selection\\univariate_selection.py:114: UserWarning: Features [    3     6    12 ... 60462 60473 60480] are constant.\n",
      "  UserWarning)\n",
      "C:\\Users\\Ridam\\Anaconda3\\lib\\site-packages\\sklearn\\feature_selection\\univariate_selection.py:115: RuntimeWarning: invalid value encountered in true_divide\n",
      "  f = msb / msw\n"
     ]
    }
   ],
   "source": [
    "# Create an SelectKBest object to select features with two best ANOVA F-Values\n",
    "fvalue_selector = SelectKBest(f_classif, k=100)\n",
    "\n",
    "# Apply the SelectKBest object to the features and target\n",
    "X_kbest = fvalue_selector.fit_transform(X_train, y_train)\n",
    "X_kbest_CV = fvalue_selector.transform(X_CV)"
   ]
  },
  {
   "cell_type": "code",
   "execution_count": 13,
   "metadata": {},
   "outputs": [],
   "source": [
    "#Training the SVM model\n",
    "from sklearn.svm import SVC\n",
    "clf = SVC(C= 10, kernel = 'rbf', gamma = 0.001,probability = True)"
   ]
  },
  {
   "cell_type": "code",
   "execution_count": 14,
   "metadata": {},
   "outputs": [
    {
     "data": {
      "text/plain": [
       "SVC(C=10, cache_size=200, class_weight=None, coef0=0.0,\n",
       "    decision_function_shape='ovr', degree=3, gamma=0.001, kernel='rbf',\n",
       "    max_iter=-1, probability=True, random_state=None, shrinking=True, tol=0.001,\n",
       "    verbose=False)"
      ]
     },
     "execution_count": 14,
     "metadata": {},
     "output_type": "execute_result"
    }
   ],
   "source": [
    "clf.fit(X_kbest, y_train)"
   ]
  },
  {
   "cell_type": "code",
   "execution_count": 15,
   "metadata": {},
   "outputs": [
    {
     "data": {
      "text/plain": [
       "0.7713004484304933"
      ]
     },
     "execution_count": 15,
     "metadata": {},
     "output_type": "execute_result"
    }
   ],
   "source": [
    "clf.score(X_kbest, y_train)"
   ]
  },
  {
   "cell_type": "code",
   "execution_count": 16,
   "metadata": {},
   "outputs": [
    {
     "data": {
      "text/plain": [
       "0.6428571428571429"
      ]
     },
     "execution_count": 16,
     "metadata": {},
     "output_type": "execute_result"
    }
   ],
   "source": [
    "clf.score(X_kbest_CV, y_CV)"
   ]
  },
  {
   "cell_type": "code",
   "execution_count": 17,
   "metadata": {},
   "outputs": [],
   "source": [
    "from sklearn.model_selection import GridSearchCV"
   ]
  },
  {
   "cell_type": "code",
   "execution_count": 18,
   "metadata": {},
   "outputs": [],
   "source": [
    "parameter_candidates = [\n",
    "  {'C': [1, 10, 100, 1000], 'kernel': ['linear']},\n",
    "  {'C': [1, 10, 100, 1000], 'gamma': [0.001, 0.0001], 'kernel': ['rbf']},\n",
    "  {'C': [1, 10, 100, 1000], 'gamma': [0.001, 0.0001], 'kernel': ['poly']}\n",
    "]"
   ]
  },
  {
   "cell_type": "code",
   "execution_count": 19,
   "metadata": {},
   "outputs": [
    {
     "name": "stderr",
     "output_type": "stream",
     "text": [
      "C:\\Users\\Ridam\\Anaconda3\\lib\\site-packages\\sklearn\\model_selection\\_search.py:814: DeprecationWarning: The default of the `iid` parameter will change from True to False in version 0.22 and will be removed in 0.24. This will change numeric results when test-set sizes are unequal.\n",
      "  DeprecationWarning)\n"
     ]
    },
    {
     "data": {
      "text/plain": [
       "GridSearchCV(cv=10, error_score='raise-deprecating',\n",
       "             estimator=SVC(C=1.0, cache_size=200, class_weight=None, coef0=0.0,\n",
       "                           decision_function_shape='ovr', degree=3,\n",
       "                           gamma='auto_deprecated', kernel='rbf', max_iter=-1,\n",
       "                           probability=False, random_state=None, shrinking=True,\n",
       "                           tol=0.001, verbose=False),\n",
       "             iid='warn', n_jobs=-1,\n",
       "             param_grid=[{'C': [1, 10, 100, 1000], 'kernel': ['linear']},\n",
       "                         {'C': [1, 10, 100, 1000], 'gamma': [0.001, 0.0001],\n",
       "                          'kernel': ['rbf']},\n",
       "                         {'C': [1, 10, 100, 1000], 'gamma': [0.001, 0.0001],\n",
       "                          'kernel': ['poly']}],\n",
       "             pre_dispatch='2*n_jobs', refit=True, return_train_score=False,\n",
       "             scoring=None, verbose=0)"
      ]
     },
     "execution_count": 19,
     "metadata": {},
     "output_type": "execute_result"
    }
   ],
   "source": [
    "# Create a classifier object with the classifier and parameter candidates\n",
    "clf = GridSearchCV(estimator=SVC(), param_grid=parameter_candidates, cv=10, n_jobs=-1)\n",
    "\n",
    "# Train the classifier on data1's feature and target data\n",
    "clf.fit(X_kbest, y_train) "
   ]
  },
  {
   "cell_type": "code",
   "execution_count": 20,
   "metadata": {},
   "outputs": [
    {
     "name": "stdout",
     "output_type": "stream",
     "text": [
      "Best score for data1: 0.695067264573991\n",
      "Best score for data1: {'C': 1, 'gamma': 0.001, 'kernel': 'poly'}\n"
     ]
    }
   ],
   "source": [
    "# View the accuracy score\n",
    "print('Best score for data1:', clf.best_score_) \n",
    "print('Best score for data1:', clf.best_params_) "
   ]
  },
  {
   "cell_type": "code",
   "execution_count": 21,
   "metadata": {},
   "outputs": [
    {
     "data": {
      "text/plain": [
       "0.7713004484304933"
      ]
     },
     "execution_count": 21,
     "metadata": {},
     "output_type": "execute_result"
    }
   ],
   "source": [
    "clf = SVC(C= 10, kernel = 'rbf', gamma = 0.001,probability = True)\n",
    "clf.fit(X_kbest, y_train) \n",
    "clf.score(X_kbest, y_train) "
   ]
  },
  {
   "cell_type": "code",
   "execution_count": 22,
   "metadata": {},
   "outputs": [
    {
     "data": {
      "text/plain": [
       "0.6428571428571429"
      ]
     },
     "execution_count": 22,
     "metadata": {},
     "output_type": "execute_result"
    }
   ],
   "source": [
    "clf.score(X_kbest_CV,y_CV)"
   ]
  },
  {
   "cell_type": "code",
   "execution_count": 54,
   "metadata": {},
   "outputs": [],
   "source": [
    "X1 = test_data.drop(columns=['id'])"
   ]
  },
  {
   "cell_type": "code",
   "execution_count": 55,
   "metadata": {},
   "outputs": [
    {
     "data": {
      "text/html": [
       "<div>\n",
       "<style scoped>\n",
       "    .dataframe tbody tr th:only-of-type {\n",
       "        vertical-align: middle;\n",
       "    }\n",
       "\n",
       "    .dataframe tbody tr th {\n",
       "        vertical-align: top;\n",
       "    }\n",
       "\n",
       "    .dataframe thead th {\n",
       "        text-align: right;\n",
       "    }\n",
       "</style>\n",
       "<table border=\"1\" class=\"dataframe\">\n",
       "  <thead>\n",
       "    <tr style=\"text-align: right;\">\n",
       "      <th></th>\n",
       "      <th>ENSG00000242268.2</th>\n",
       "      <th>ENSG00000270112.3</th>\n",
       "      <th>ENSG00000167578.15</th>\n",
       "      <th>ENSG00000273842.1</th>\n",
       "      <th>ENSG00000078237.5</th>\n",
       "      <th>ENSG00000146083.10</th>\n",
       "      <th>ENSG00000225275.4</th>\n",
       "      <th>ENSG00000158486.12</th>\n",
       "      <th>ENSG00000198242.12</th>\n",
       "      <th>ENSG00000259883.1</th>\n",
       "      <th>...</th>\n",
       "      <th>ENSG00000238244.3</th>\n",
       "      <th>ENSG00000186115.11</th>\n",
       "      <th>ENSG00000216352.1</th>\n",
       "      <th>ENSG00000267117.1</th>\n",
       "      <th>ENSG00000273233.1</th>\n",
       "      <th>ENSG00000105063.17</th>\n",
       "      <th>ENSG00000231119.2</th>\n",
       "      <th>ENSG00000280861.1</th>\n",
       "      <th>ENSG00000123685.7</th>\n",
       "      <th>ENSG00000181518.3</th>\n",
       "    </tr>\n",
       "  </thead>\n",
       "  <tbody>\n",
       "    <tr>\n",
       "      <th>0</th>\n",
       "      <td>0.000000</td>\n",
       "      <td>0.006764</td>\n",
       "      <td>1.68576</td>\n",
       "      <td>0.0</td>\n",
       "      <td>1.046760</td>\n",
       "      <td>2.56965</td>\n",
       "      <td>0</td>\n",
       "      <td>0.000000</td>\n",
       "      <td>5.38054</td>\n",
       "      <td>0.000000</td>\n",
       "      <td>...</td>\n",
       "      <td>0</td>\n",
       "      <td>6.30029</td>\n",
       "      <td>0</td>\n",
       "      <td>0.076595</td>\n",
       "      <td>0.000000</td>\n",
       "      <td>3.02069</td>\n",
       "      <td>0.196880</td>\n",
       "      <td>0</td>\n",
       "      <td>0.538068</td>\n",
       "      <td>0.0</td>\n",
       "    </tr>\n",
       "    <tr>\n",
       "      <th>1</th>\n",
       "      <td>0.247055</td>\n",
       "      <td>0.000000</td>\n",
       "      <td>1.89639</td>\n",
       "      <td>0.0</td>\n",
       "      <td>1.996530</td>\n",
       "      <td>2.47638</td>\n",
       "      <td>0</td>\n",
       "      <td>0.016952</td>\n",
       "      <td>5.98824</td>\n",
       "      <td>0.228977</td>\n",
       "      <td>...</td>\n",
       "      <td>0</td>\n",
       "      <td>5.04563</td>\n",
       "      <td>0</td>\n",
       "      <td>0.137816</td>\n",
       "      <td>0.000000</td>\n",
       "      <td>3.56454</td>\n",
       "      <td>0.397989</td>\n",
       "      <td>0</td>\n",
       "      <td>0.574163</td>\n",
       "      <td>0.0</td>\n",
       "    </tr>\n",
       "    <tr>\n",
       "      <th>2</th>\n",
       "      <td>0.026951</td>\n",
       "      <td>0.000000</td>\n",
       "      <td>1.80290</td>\n",
       "      <td>0.0</td>\n",
       "      <td>1.568690</td>\n",
       "      <td>1.90269</td>\n",
       "      <td>0</td>\n",
       "      <td>0.007726</td>\n",
       "      <td>5.97967</td>\n",
       "      <td>0.096880</td>\n",
       "      <td>...</td>\n",
       "      <td>0</td>\n",
       "      <td>6.00935</td>\n",
       "      <td>0</td>\n",
       "      <td>0.000000</td>\n",
       "      <td>0.044642</td>\n",
       "      <td>3.64769</td>\n",
       "      <td>0.217624</td>\n",
       "      <td>0</td>\n",
       "      <td>0.135791</td>\n",
       "      <td>0.0</td>\n",
       "    </tr>\n",
       "    <tr>\n",
       "      <th>3</th>\n",
       "      <td>0.000000</td>\n",
       "      <td>0.000000</td>\n",
       "      <td>1.51205</td>\n",
       "      <td>0.0</td>\n",
       "      <td>0.938359</td>\n",
       "      <td>1.81372</td>\n",
       "      <td>0</td>\n",
       "      <td>0.003923</td>\n",
       "      <td>6.46130</td>\n",
       "      <td>0.000000</td>\n",
       "      <td>...</td>\n",
       "      <td>0</td>\n",
       "      <td>5.51651</td>\n",
       "      <td>0</td>\n",
       "      <td>0.127467</td>\n",
       "      <td>0.000000</td>\n",
       "      <td>2.88242</td>\n",
       "      <td>0.612775</td>\n",
       "      <td>0</td>\n",
       "      <td>0.807993</td>\n",
       "      <td>0.0</td>\n",
       "    </tr>\n",
       "    <tr>\n",
       "      <th>4</th>\n",
       "      <td>0.643548</td>\n",
       "      <td>0.000000</td>\n",
       "      <td>1.35997</td>\n",
       "      <td>0.0</td>\n",
       "      <td>1.254810</td>\n",
       "      <td>3.64841</td>\n",
       "      <td>0</td>\n",
       "      <td>0.128797</td>\n",
       "      <td>6.27939</td>\n",
       "      <td>0.033555</td>\n",
       "      <td>...</td>\n",
       "      <td>0</td>\n",
       "      <td>2.28184</td>\n",
       "      <td>0</td>\n",
       "      <td>0.058164</td>\n",
       "      <td>0.060170</td>\n",
       "      <td>4.11811</td>\n",
       "      <td>0.150976</td>\n",
       "      <td>0</td>\n",
       "      <td>0.416153</td>\n",
       "      <td>0.0</td>\n",
       "    </tr>\n",
       "  </tbody>\n",
       "</table>\n",
       "<p>5 rows × 60483 columns</p>\n",
       "</div>"
      ],
      "text/plain": [
       "   ENSG00000242268.2  ENSG00000270112.3  ENSG00000167578.15  \\\n",
       "0           0.000000           0.006764             1.68576   \n",
       "1           0.247055           0.000000             1.89639   \n",
       "2           0.026951           0.000000             1.80290   \n",
       "3           0.000000           0.000000             1.51205   \n",
       "4           0.643548           0.000000             1.35997   \n",
       "\n",
       "   ENSG00000273842.1  ENSG00000078237.5  ENSG00000146083.10  \\\n",
       "0                0.0           1.046760             2.56965   \n",
       "1                0.0           1.996530             2.47638   \n",
       "2                0.0           1.568690             1.90269   \n",
       "3                0.0           0.938359             1.81372   \n",
       "4                0.0           1.254810             3.64841   \n",
       "\n",
       "   ENSG00000225275.4  ENSG00000158486.12  ENSG00000198242.12  \\\n",
       "0                  0            0.000000             5.38054   \n",
       "1                  0            0.016952             5.98824   \n",
       "2                  0            0.007726             5.97967   \n",
       "3                  0            0.003923             6.46130   \n",
       "4                  0            0.128797             6.27939   \n",
       "\n",
       "   ENSG00000259883.1  ...  ENSG00000238244.3  ENSG00000186115.11  \\\n",
       "0           0.000000  ...                  0             6.30029   \n",
       "1           0.228977  ...                  0             5.04563   \n",
       "2           0.096880  ...                  0             6.00935   \n",
       "3           0.000000  ...                  0             5.51651   \n",
       "4           0.033555  ...                  0             2.28184   \n",
       "\n",
       "   ENSG00000216352.1  ENSG00000267117.1  ENSG00000273233.1  \\\n",
       "0                  0           0.076595           0.000000   \n",
       "1                  0           0.137816           0.000000   \n",
       "2                  0           0.000000           0.044642   \n",
       "3                  0           0.127467           0.000000   \n",
       "4                  0           0.058164           0.060170   \n",
       "\n",
       "   ENSG00000105063.17  ENSG00000231119.2  ENSG00000280861.1  \\\n",
       "0             3.02069           0.196880                  0   \n",
       "1             3.56454           0.397989                  0   \n",
       "2             3.64769           0.217624                  0   \n",
       "3             2.88242           0.612775                  0   \n",
       "4             4.11811           0.150976                  0   \n",
       "\n",
       "   ENSG00000123685.7  ENSG00000181518.3  \n",
       "0           0.538068                0.0  \n",
       "1           0.574163                0.0  \n",
       "2           0.135791                0.0  \n",
       "3           0.807993                0.0  \n",
       "4           0.416153                0.0  \n",
       "\n",
       "[5 rows x 60483 columns]"
      ]
     },
     "execution_count": 55,
     "metadata": {},
     "output_type": "execute_result"
    }
   ],
   "source": [
    "X1.head()"
   ]
  },
  {
   "cell_type": "code",
   "execution_count": 56,
   "metadata": {},
   "outputs": [],
   "source": [
    "X_id = test_data['id']"
   ]
  },
  {
   "cell_type": "code",
   "execution_count": 57,
   "metadata": {},
   "outputs": [
    {
     "data": {
      "text/plain": [
       "pandas.core.series.Series"
      ]
     },
     "execution_count": 57,
     "metadata": {},
     "output_type": "execute_result"
    }
   ],
   "source": [
    "type(X_id)"
   ]
  },
  {
   "cell_type": "code",
   "execution_count": 58,
   "metadata": {},
   "outputs": [
    {
     "data": {
      "text/plain": [
       "0    3001\n",
       "1    3002\n",
       "2    3003\n",
       "3    3004\n",
       "4    3005\n",
       "Name: id, dtype: int64"
      ]
     },
     "execution_count": 58,
     "metadata": {},
     "output_type": "execute_result"
    }
   ],
   "source": [
    "X_id.head()"
   ]
  },
  {
   "cell_type": "code",
   "execution_count": 127,
   "metadata": {},
   "outputs": [
    {
     "name": "stderr",
     "output_type": "stream",
     "text": [
      "C:\\Users\\Ridam\\Anaconda3\\lib\\site-packages\\sklearn\\feature_selection\\univariate_selection.py:114: UserWarning: Features [    3     6    12 ... 60462 60473 60480] are constant.\n",
      "  UserWarning)\n",
      "C:\\Users\\Ridam\\Anaconda3\\lib\\site-packages\\sklearn\\feature_selection\\univariate_selection.py:115: RuntimeWarning: invalid value encountered in true_divide\n",
      "  f = msb / msw\n"
     ]
    }
   ],
   "source": [
    "# Create an SelectKBest object to select features with two best ANOVA F-Values\n",
    "fvalue_selector = SelectKBest(f_classif, k=100)\n",
    "\n",
    "# Apply the SelectKBest object to the features and target\n",
    "X_kbest = fvalue_selector.fit_transform(X, y)\n",
    "X_kbest_test = fvalue_selector.transform(X1)"
   ]
  },
  {
   "cell_type": "code",
   "execution_count": 128,
   "metadata": {},
   "outputs": [
    {
     "data": {
      "text/plain": [
       "SVC(C=10, cache_size=200, class_weight=None, coef0=0.0,\n",
       "    decision_function_shape='ovr', degree=3, gamma=0.001, kernel='rbf',\n",
       "    max_iter=-1, probability=False, random_state=None, shrinking=True,\n",
       "    tol=0.001, verbose=False)"
      ]
     },
     "execution_count": 128,
     "metadata": {},
     "output_type": "execute_result"
    }
   ],
   "source": [
    "clf = SVC(C= 10, kernel = 'rbf', gamma = 0.001)\n",
    "clf.fit(X_kbest, y)"
   ]
  },
  {
   "cell_type": "code",
   "execution_count": 129,
   "metadata": {},
   "outputs": [
    {
     "data": {
      "text/plain": [
       "0.8064516129032258"
      ]
     },
     "execution_count": 129,
     "metadata": {},
     "output_type": "execute_result"
    }
   ],
   "source": [
    "clf.score(X_kbest, y)"
   ]
  },
  {
   "cell_type": "code",
   "execution_count": 131,
   "metadata": {},
   "outputs": [],
   "source": [
    "y_predict = clf.predict(X_kbest_test)"
   ]
  },
  {
   "cell_type": "code",
   "execution_count": 132,
   "metadata": {},
   "outputs": [],
   "source": [
    "new_series = pd.DataFrame(y_predict)"
   ]
  },
  {
   "cell_type": "code",
   "execution_count": 133,
   "metadata": {},
   "outputs": [],
   "source": [
    "new_series1 = pd.DataFrame(X_id)"
   ]
  },
  {
   "cell_type": "code",
   "execution_count": 134,
   "metadata": {},
   "outputs": [
    {
     "data": {
      "text/plain": [
       "pandas.core.frame.DataFrame"
      ]
     },
     "execution_count": 134,
     "metadata": {},
     "output_type": "execute_result"
    }
   ],
   "source": [
    "type(new_series)"
   ]
  },
  {
   "cell_type": "code",
   "execution_count": 135,
   "metadata": {},
   "outputs": [],
   "source": [
    "sample = new_series1.join(new_series)"
   ]
  },
  {
   "cell_type": "code",
   "execution_count": 136,
   "metadata": {},
   "outputs": [
    {
     "data": {
      "text/plain": [
       "pandas.core.frame.DataFrame"
      ]
     },
     "execution_count": 136,
     "metadata": {},
     "output_type": "execute_result"
    }
   ],
   "source": [
    "type(sample)"
   ]
  },
  {
   "cell_type": "code",
   "execution_count": 137,
   "metadata": {},
   "outputs": [],
   "source": [
    "sample.columns = ['id','Label']"
   ]
  },
  {
   "cell_type": "code",
   "execution_count": 138,
   "metadata": {},
   "outputs": [
    {
     "data": {
      "text/plain": [
       "(71, 2)"
      ]
     },
     "execution_count": 138,
     "metadata": {},
     "output_type": "execute_result"
    }
   ],
   "source": [
    "sample.shape"
   ]
  },
  {
   "cell_type": "code",
   "execution_count": 140,
   "metadata": {},
   "outputs": [],
   "source": [
    "sample.to_csv('sample.csv',index = False) "
   ]
  },
  {
   "cell_type": "code",
   "execution_count": null,
   "metadata": {},
   "outputs": [],
   "source": []
  }
 ],
 "metadata": {
  "kernelspec": {
   "display_name": "Python 3",
   "language": "python",
   "name": "python3"
  },
  "language_info": {
   "codemirror_mode": {
    "name": "ipython",
    "version": 3
   },
   "file_extension": ".py",
   "mimetype": "text/x-python",
   "name": "python",
   "nbconvert_exporter": "python",
   "pygments_lexer": "ipython3",
   "version": "3.7.3"
  }
 },
 "nbformat": 4,
 "nbformat_minor": 2
}
